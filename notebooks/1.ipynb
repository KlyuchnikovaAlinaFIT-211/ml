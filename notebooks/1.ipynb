{
 "cells": [
  {
   "cell_type": "markdown",
   "id": "43dfc1f0",
   "metadata": {},
   "source": [
    "# Лабораторная работа 1. Введение в машинное обучение. Обучение с учителем. Задача регрессии"
   ]
  },
  {
   "cell_type": "markdown",
   "id": "af0b0580",
   "metadata": {},
   "source": [
    "<b>Традиционное предупреждение для всех лабораторных работ:</b> перед обучением моделей необходимо выполнить предварительную обработку данных, которая <b>обязательно</b> включает в себя:\n",
    "- заполнение пропущенных значений (рекомедуется логика заполнения пропусков на основе типа данных, которая использовалась в РГР по Практикуму);\n",
    "- преобразование категориальных признаков в числовые (используйте one-hot кодирование или map; используйте знания с Практикума)."
   ]
  },
  {
   "cell_type": "markdown",
   "id": "b08d9e23",
   "metadata": {},
   "source": [
    "Предобработка может включать в себя другие действия, но выполнение описанных выше действий обязательно."
   ]
  },
  {
   "cell_type": "markdown",
   "id": "05aab9d1",
   "metadata": {},
   "source": [
    "Сделайте это один раз и сохраните в отдельный csv файл, а потом его используйте."
   ]
  },
  {
   "cell_type": "markdown",
   "id": "e053af5b",
   "metadata": {},
   "source": [
    "<b>Выполните следующие задания:</b>\n",
    "- загрузите датасет для регрессии, выделите целевой признак и предикторы, разбейте данные на обучающую и тестовую выборку;\n",
    "- решите задачу регрессии на ваших данных с использованием моделей sklearn (линейная регрессия + L1, L2), для моделей с регуляризациями подберите гиперпараметр;\n",
    "- решите задачу регрессии на ваших данных с использованием моделей sklearn (полиномиальная регрессия + L1, L2), для моделей с регуляризациями подберите гиперпараметр;\n",
    "- вычислите значения метрик $R^2$, MAE, MSE, RMSE, MAPE для всех обученных моделей; выберите лучшую модель;\n",
    "- самостоятельно реализуйте (желательно в виде класса) модель линейной регрессии с регуляризацией (можете выбрать L1 или L2);\n",
    "- самостоятельно реализуйте вычисление всех используемых метрик (в виде функций, принимающих два аргумента);\n",
    "- обучите вашу модель линейной регрессии на ваших данных; оцените качество с помощью реализованных вами метрик."
   ]
  },
  {
   "cell_type": "code",
   "execution_count": 57,
   "id": "f500beec",
   "metadata": {},
   "outputs": [],
   "source": [
    "import pandas as pd\n",
    "import numpy as np"
   ]
  },
  {
   "cell_type": "code",
   "execution_count": 58,
   "id": "08a0bdc1",
   "metadata": {},
   "outputs": [
    {
     "data": {
      "text/html": [
       "<div>\n",
       "<style scoped>\n",
       "    .dataframe tbody tr th:only-of-type {\n",
       "        vertical-align: middle;\n",
       "    }\n",
       "\n",
       "    .dataframe tbody tr th {\n",
       "        vertical-align: top;\n",
       "    }\n",
       "\n",
       "    .dataframe thead th {\n",
       "        text-align: right;\n",
       "    }\n",
       "</style>\n",
       "<table border=\"1\" class=\"dataframe\">\n",
       "  <thead>\n",
       "    <tr style=\"text-align: right;\">\n",
       "      <th></th>\n",
       "      <th>id</th>\n",
       "      <th>vendor_id</th>\n",
       "      <th>pickup_datetime</th>\n",
       "      <th>dropoff_datetime</th>\n",
       "      <th>passenger_count</th>\n",
       "      <th>pickup_longitude</th>\n",
       "      <th>pickup_latitude</th>\n",
       "      <th>dropoff_longitude</th>\n",
       "      <th>dropoff_latitude</th>\n",
       "      <th>trip_duration</th>\n",
       "    </tr>\n",
       "  </thead>\n",
       "  <tbody>\n",
       "    <tr>\n",
       "      <th>0</th>\n",
       "      <td>id1080784</td>\n",
       "      <td>2.0</td>\n",
       "      <td>2016-02-29 16:40:21</td>\n",
       "      <td>2016-02-29 16:47:01</td>\n",
       "      <td>1</td>\n",
       "      <td>-73.953918</td>\n",
       "      <td>40.778873</td>\n",
       "      <td>-73.963875</td>\n",
       "      <td>40.771164</td>\n",
       "      <td>400</td>\n",
       "    </tr>\n",
       "    <tr>\n",
       "      <th>1</th>\n",
       "      <td>id0889885</td>\n",
       "      <td>1.0</td>\n",
       "      <td>2016-03-11 23:35:37</td>\n",
       "      <td>2016-03-11 23:53:57</td>\n",
       "      <td>2</td>\n",
       "      <td>-73.988312</td>\n",
       "      <td>40.731743</td>\n",
       "      <td>-73.994751</td>\n",
       "      <td>40.694931</td>\n",
       "      <td>1100</td>\n",
       "    </tr>\n",
       "    <tr>\n",
       "      <th>2</th>\n",
       "      <td>id0857912</td>\n",
       "      <td>2.0</td>\n",
       "      <td>2016-02-21 17:59:33</td>\n",
       "      <td>2016-02-21 18:26:48</td>\n",
       "      <td>2</td>\n",
       "      <td>-73.997314</td>\n",
       "      <td>40.721458</td>\n",
       "      <td>-73.948029</td>\n",
       "      <td>40.774918</td>\n",
       "      <td>1635</td>\n",
       "    </tr>\n",
       "    <tr>\n",
       "      <th>3</th>\n",
       "      <td>id3744273</td>\n",
       "      <td>2.0</td>\n",
       "      <td>2016-01-05 09:44:31</td>\n",
       "      <td>2016-01-05 10:03:32</td>\n",
       "      <td>6</td>\n",
       "      <td>-73.961670</td>\n",
       "      <td>40.759720</td>\n",
       "      <td>-73.956779</td>\n",
       "      <td>40.780628</td>\n",
       "      <td>1141</td>\n",
       "    </tr>\n",
       "    <tr>\n",
       "      <th>4</th>\n",
       "      <td>id0232939</td>\n",
       "      <td>1.0</td>\n",
       "      <td>2016-02-17 06:42:23</td>\n",
       "      <td>2016-02-17 06:56:31</td>\n",
       "      <td>1</td>\n",
       "      <td>-74.017120</td>\n",
       "      <td>40.708469</td>\n",
       "      <td>-73.988182</td>\n",
       "      <td>40.740631</td>\n",
       "      <td>848</td>\n",
       "    </tr>\n",
       "  </tbody>\n",
       "</table>\n",
       "</div>"
      ],
      "text/plain": [
       "          id  vendor_id      pickup_datetime     dropoff_datetime  \\\n",
       "0  id1080784        2.0  2016-02-29 16:40:21  2016-02-29 16:47:01   \n",
       "1  id0889885        1.0  2016-03-11 23:35:37  2016-03-11 23:53:57   \n",
       "2  id0857912        2.0  2016-02-21 17:59:33  2016-02-21 18:26:48   \n",
       "3  id3744273        2.0  2016-01-05 09:44:31  2016-01-05 10:03:32   \n",
       "4  id0232939        1.0  2016-02-17 06:42:23  2016-02-17 06:56:31   \n",
       "\n",
       "   passenger_count  pickup_longitude  pickup_latitude  dropoff_longitude  \\\n",
       "0                1        -73.953918        40.778873         -73.963875   \n",
       "1                2        -73.988312        40.731743         -73.994751   \n",
       "2                2        -73.997314        40.721458         -73.948029   \n",
       "3                6        -73.961670        40.759720         -73.956779   \n",
       "4                1        -74.017120        40.708469         -73.988182   \n",
       "\n",
       "   dropoff_latitude  trip_duration  \n",
       "0         40.771164            400  \n",
       "1         40.694931           1100  \n",
       "2         40.774918           1635  \n",
       "3         40.780628           1141  \n",
       "4         40.740631            848  "
      ]
     },
     "execution_count": 58,
     "metadata": {},
     "output_type": "execute_result"
    }
   ],
   "source": [
    "data = pd.read_csv('../data/trip_duration_task.csv')\n",
    "data = data.drop_duplicates()\n",
    "data.head()"
   ]
  },
  {
   "cell_type": "code",
   "execution_count": 59,
   "id": "940409b1",
   "metadata": {},
   "outputs": [],
   "source": [
    "import time\n",
    "import datetime\n",
    "#s =\"2016-02-29 16:47:01\"\n",
    "def t(s):\n",
    "    return time.mktime(datetime.datetime.strptime(s, \"%Y-%m-%d %H:%M:%S\").timetuple())\n",
    "data['dropoff_datetime']=data['dropoff_datetime'].map(t)\n",
    "data['pickup_datetime']=data['pickup_datetime'].map(t)"
   ]
  },
  {
   "cell_type": "code",
   "execution_count": 3,
   "id": "94b71663",
   "metadata": {},
   "outputs": [
    {
     "data": {
      "text/html": [
       "<div>\n",
       "<style scoped>\n",
       "    .dataframe tbody tr th:only-of-type {\n",
       "        vertical-align: middle;\n",
       "    }\n",
       "\n",
       "    .dataframe tbody tr th {\n",
       "        vertical-align: top;\n",
       "    }\n",
       "\n",
       "    .dataframe thead th {\n",
       "        text-align: right;\n",
       "    }\n",
       "</style>\n",
       "<table border=\"1\" class=\"dataframe\">\n",
       "  <thead>\n",
       "    <tr style=\"text-align: right;\">\n",
       "      <th></th>\n",
       "      <th>id</th>\n",
       "      <th>vendor_id</th>\n",
       "      <th>pickup_datetime</th>\n",
       "      <th>dropoff_datetime</th>\n",
       "      <th>passenger_count</th>\n",
       "      <th>pickup_longitude</th>\n",
       "      <th>pickup_latitude</th>\n",
       "      <th>dropoff_longitude</th>\n",
       "      <th>dropoff_latitude</th>\n",
       "      <th>trip_duration</th>\n",
       "      <th>pickup_day</th>\n",
       "      <th>dropoff_day</th>\n",
       "      <th>pickup_chas</th>\n",
       "      <th>dropoff_chas</th>\n",
       "      <th>pickup_min</th>\n",
       "      <th>dropoff_min</th>\n",
       "      <th>pickup_sec</th>\n",
       "      <th>dropoff_sec</th>\n",
       "    </tr>\n",
       "  </thead>\n",
       "  <tbody>\n",
       "    <tr>\n",
       "      <th>0</th>\n",
       "      <td>id1080784</td>\n",
       "      <td>2.0</td>\n",
       "      <td>2016-02-29 16:40:21</td>\n",
       "      <td>2016-02-29 16:47:01</td>\n",
       "      <td>1</td>\n",
       "      <td>-73.953918</td>\n",
       "      <td>40.778873</td>\n",
       "      <td>-73.963875</td>\n",
       "      <td>40.771164</td>\n",
       "      <td>400</td>\n",
       "      <td>29</td>\n",
       "      <td>29</td>\n",
       "      <td>16</td>\n",
       "      <td>16</td>\n",
       "      <td>40</td>\n",
       "      <td>47</td>\n",
       "      <td>21</td>\n",
       "      <td>1</td>\n",
       "    </tr>\n",
       "    <tr>\n",
       "      <th>1</th>\n",
       "      <td>id0889885</td>\n",
       "      <td>1.0</td>\n",
       "      <td>2016-03-11 23:35:37</td>\n",
       "      <td>2016-03-11 23:53:57</td>\n",
       "      <td>2</td>\n",
       "      <td>-73.988312</td>\n",
       "      <td>40.731743</td>\n",
       "      <td>-73.994751</td>\n",
       "      <td>40.694931</td>\n",
       "      <td>1100</td>\n",
       "      <td>11</td>\n",
       "      <td>11</td>\n",
       "      <td>23</td>\n",
       "      <td>23</td>\n",
       "      <td>35</td>\n",
       "      <td>53</td>\n",
       "      <td>37</td>\n",
       "      <td>57</td>\n",
       "    </tr>\n",
       "    <tr>\n",
       "      <th>2</th>\n",
       "      <td>id0857912</td>\n",
       "      <td>2.0</td>\n",
       "      <td>2016-02-21 17:59:33</td>\n",
       "      <td>2016-02-21 18:26:48</td>\n",
       "      <td>2</td>\n",
       "      <td>-73.997314</td>\n",
       "      <td>40.721458</td>\n",
       "      <td>-73.948029</td>\n",
       "      <td>40.774918</td>\n",
       "      <td>1635</td>\n",
       "      <td>21</td>\n",
       "      <td>21</td>\n",
       "      <td>17</td>\n",
       "      <td>18</td>\n",
       "      <td>59</td>\n",
       "      <td>26</td>\n",
       "      <td>33</td>\n",
       "      <td>48</td>\n",
       "    </tr>\n",
       "    <tr>\n",
       "      <th>3</th>\n",
       "      <td>id3744273</td>\n",
       "      <td>2.0</td>\n",
       "      <td>2016-01-05 09:44:31</td>\n",
       "      <td>2016-01-05 10:03:32</td>\n",
       "      <td>6</td>\n",
       "      <td>-73.961670</td>\n",
       "      <td>40.759720</td>\n",
       "      <td>-73.956779</td>\n",
       "      <td>40.780628</td>\n",
       "      <td>1141</td>\n",
       "      <td>5</td>\n",
       "      <td>5</td>\n",
       "      <td>9</td>\n",
       "      <td>10</td>\n",
       "      <td>44</td>\n",
       "      <td>3</td>\n",
       "      <td>31</td>\n",
       "      <td>32</td>\n",
       "    </tr>\n",
       "    <tr>\n",
       "      <th>4</th>\n",
       "      <td>id0232939</td>\n",
       "      <td>1.0</td>\n",
       "      <td>2016-02-17 06:42:23</td>\n",
       "      <td>2016-02-17 06:56:31</td>\n",
       "      <td>1</td>\n",
       "      <td>-74.017120</td>\n",
       "      <td>40.708469</td>\n",
       "      <td>-73.988182</td>\n",
       "      <td>40.740631</td>\n",
       "      <td>848</td>\n",
       "      <td>17</td>\n",
       "      <td>17</td>\n",
       "      <td>6</td>\n",
       "      <td>6</td>\n",
       "      <td>42</td>\n",
       "      <td>56</td>\n",
       "      <td>23</td>\n",
       "      <td>31</td>\n",
       "    </tr>\n",
       "  </tbody>\n",
       "</table>\n",
       "</div>"
      ],
      "text/plain": [
       "          id  vendor_id      pickup_datetime     dropoff_datetime  \\\n",
       "0  id1080784        2.0  2016-02-29 16:40:21  2016-02-29 16:47:01   \n",
       "1  id0889885        1.0  2016-03-11 23:35:37  2016-03-11 23:53:57   \n",
       "2  id0857912        2.0  2016-02-21 17:59:33  2016-02-21 18:26:48   \n",
       "3  id3744273        2.0  2016-01-05 09:44:31  2016-01-05 10:03:32   \n",
       "4  id0232939        1.0  2016-02-17 06:42:23  2016-02-17 06:56:31   \n",
       "\n",
       "   passenger_count  pickup_longitude  pickup_latitude  dropoff_longitude  \\\n",
       "0                1        -73.953918        40.778873         -73.963875   \n",
       "1                2        -73.988312        40.731743         -73.994751   \n",
       "2                2        -73.997314        40.721458         -73.948029   \n",
       "3                6        -73.961670        40.759720         -73.956779   \n",
       "4                1        -74.017120        40.708469         -73.988182   \n",
       "\n",
       "   dropoff_latitude  trip_duration  pickup_day  dropoff_day  pickup_chas  \\\n",
       "0         40.771164            400          29           29           16   \n",
       "1         40.694931           1100          11           11           23   \n",
       "2         40.774918           1635          21           21           17   \n",
       "3         40.780628           1141           5            5            9   \n",
       "4         40.740631            848          17           17            6   \n",
       "\n",
       "   dropoff_chas  pickup_min  dropoff_min  pickup_sec  dropoff_sec  \n",
       "0            16          40           47          21            1  \n",
       "1            23          35           53          37           57  \n",
       "2            18          59           26          33           48  \n",
       "3            10          44            3          31           32  \n",
       "4             6          42           56          23           31  "
      ]
     },
     "execution_count": 3,
     "metadata": {},
     "output_type": "execute_result"
    }
   ],
   "source": [
    "def d(x):\n",
    "    return int(x[a:b])\n",
    "#a=0\n",
    "#b=4\n",
    "#data['pickup_god'] = data['pickup_datetime'].map(d)\n",
    "#data['dropoff_god'] = data['dropoff_datetime'].map(d)\n",
    "#a=5\n",
    "#b=7\n",
    "#data['pickup_mes'] = data['pickup_datetime'].map(d)\n",
    "#data['dropoff_mes'] = data['dropoff_datetime'].map(d)\n",
    "a=8\n",
    "b=10\n",
    "data['pickup_day'] = data['pickup_datetime'].map(d)\n",
    "data['dropoff_day'] = data['dropoff_datetime'].map(d)\n",
    "a=11\n",
    "b=13\n",
    "data['pickup_chas'] = data['pickup_datetime'].map(d)\n",
    "data['dropoff_chas'] = data['dropoff_datetime'].map(d)\n",
    "a=14\n",
    "b=16\n",
    "data['pickup_min'] = data['pickup_datetime'].map(d)\n",
    "data['dropoff_min'] = data['dropoff_datetime'].map(d)\n",
    "a=17\n",
    "b=19\n",
    "data['pickup_sec'] = data['pickup_datetime'].map(d)\n",
    "data['dropoff_sec'] = data['dropoff_datetime'].map(d)\n",
    "data.drop(['pickup_datetime', 'dropoff_datetime'], axis=1, inplace=True)\n",
    "data.head()"
   ]
  },
  {
   "cell_type": "code",
   "execution_count": 60,
   "id": "fc7808e5",
   "metadata": {},
   "outputs": [
    {
     "data": {
      "text/html": [
       "<div>\n",
       "<style scoped>\n",
       "    .dataframe tbody tr th:only-of-type {\n",
       "        vertical-align: middle;\n",
       "    }\n",
       "\n",
       "    .dataframe tbody tr th {\n",
       "        vertical-align: top;\n",
       "    }\n",
       "\n",
       "    .dataframe thead th {\n",
       "        text-align: right;\n",
       "    }\n",
       "</style>\n",
       "<table border=\"1\" class=\"dataframe\">\n",
       "  <thead>\n",
       "    <tr style=\"text-align: right;\">\n",
       "      <th></th>\n",
       "      <th>vendor_id</th>\n",
       "      <th>pickup_datetime</th>\n",
       "      <th>dropoff_datetime</th>\n",
       "      <th>passenger_count</th>\n",
       "      <th>pickup_longitude</th>\n",
       "      <th>pickup_latitude</th>\n",
       "      <th>dropoff_longitude</th>\n",
       "      <th>dropoff_latitude</th>\n",
       "      <th>trip_duration</th>\n",
       "    </tr>\n",
       "  </thead>\n",
       "  <tbody>\n",
       "    <tr>\n",
       "      <th>0</th>\n",
       "      <td>2.0</td>\n",
       "      <td>1.456742e+09</td>\n",
       "      <td>1.456743e+09</td>\n",
       "      <td>1</td>\n",
       "      <td>-73.953918</td>\n",
       "      <td>40.778873</td>\n",
       "      <td>-73.963875</td>\n",
       "      <td>40.771164</td>\n",
       "      <td>400</td>\n",
       "    </tr>\n",
       "    <tr>\n",
       "      <th>1</th>\n",
       "      <td>1.0</td>\n",
       "      <td>1.457718e+09</td>\n",
       "      <td>1.457719e+09</td>\n",
       "      <td>2</td>\n",
       "      <td>-73.988312</td>\n",
       "      <td>40.731743</td>\n",
       "      <td>-73.994751</td>\n",
       "      <td>40.694931</td>\n",
       "      <td>1100</td>\n",
       "    </tr>\n",
       "    <tr>\n",
       "      <th>2</th>\n",
       "      <td>2.0</td>\n",
       "      <td>1.456056e+09</td>\n",
       "      <td>1.456058e+09</td>\n",
       "      <td>2</td>\n",
       "      <td>-73.997314</td>\n",
       "      <td>40.721458</td>\n",
       "      <td>-73.948029</td>\n",
       "      <td>40.774918</td>\n",
       "      <td>1635</td>\n",
       "    </tr>\n",
       "    <tr>\n",
       "      <th>3</th>\n",
       "      <td>2.0</td>\n",
       "      <td>1.451965e+09</td>\n",
       "      <td>1.451967e+09</td>\n",
       "      <td>6</td>\n",
       "      <td>-73.961670</td>\n",
       "      <td>40.759720</td>\n",
       "      <td>-73.956779</td>\n",
       "      <td>40.780628</td>\n",
       "      <td>1141</td>\n",
       "    </tr>\n",
       "    <tr>\n",
       "      <th>4</th>\n",
       "      <td>1.0</td>\n",
       "      <td>1.455670e+09</td>\n",
       "      <td>1.455671e+09</td>\n",
       "      <td>1</td>\n",
       "      <td>-74.017120</td>\n",
       "      <td>40.708469</td>\n",
       "      <td>-73.988182</td>\n",
       "      <td>40.740631</td>\n",
       "      <td>848</td>\n",
       "    </tr>\n",
       "  </tbody>\n",
       "</table>\n",
       "</div>"
      ],
      "text/plain": [
       "   vendor_id  pickup_datetime  dropoff_datetime  passenger_count  \\\n",
       "0        2.0     1.456742e+09      1.456743e+09                1   \n",
       "1        1.0     1.457718e+09      1.457719e+09                2   \n",
       "2        2.0     1.456056e+09      1.456058e+09                2   \n",
       "3        2.0     1.451965e+09      1.451967e+09                6   \n",
       "4        1.0     1.455670e+09      1.455671e+09                1   \n",
       "\n",
       "   pickup_longitude  pickup_latitude  dropoff_longitude  dropoff_latitude  \\\n",
       "0        -73.953918        40.778873         -73.963875         40.771164   \n",
       "1        -73.988312        40.731743         -73.994751         40.694931   \n",
       "2        -73.997314        40.721458         -73.948029         40.774918   \n",
       "3        -73.961670        40.759720         -73.956779         40.780628   \n",
       "4        -74.017120        40.708469         -73.988182         40.740631   \n",
       "\n",
       "   trip_duration  \n",
       "0            400  \n",
       "1           1100  \n",
       "2           1635  \n",
       "3           1141  \n",
       "4            848  "
      ]
     },
     "execution_count": 60,
     "metadata": {},
     "output_type": "execute_result"
    }
   ],
   "source": [
    "data.drop(['id'], axis=1, inplace=True)\n",
    "data.head()"
   ]
  },
  {
   "cell_type": "code",
   "execution_count": 61,
   "id": "1b7cc428",
   "metadata": {},
   "outputs": [],
   "source": [
    "for st in data.columns:\n",
    "    if type(st[1]) == int:\n",
    "        a=np.median(st)\n",
    "    elif type(st[1]) == float:\n",
    "        print(1);\n",
    "        a=np.average(st)\n",
    "    else:\n",
    "        a=data.mode(axis= 0, numeric_only= False, dropna = True)[st][0]\n",
    "def f(x):\n",
    "    if pd.isna(x):\n",
    "        return a\n",
    "    else:\n",
    "        return x\n",
    "for st in data.columns:\n",
    "    data[st]=data[st].map(f)"
   ]
  },
  {
   "cell_type": "code",
   "execution_count": 62,
   "id": "148c2748",
   "metadata": {},
   "outputs": [],
   "source": [
    "data.to_csv('../data/trip_duration_task_obr.csv')"
   ]
  },
  {
   "cell_type": "code",
   "execution_count": null,
   "id": "9b0e5c56",
   "metadata": {},
   "outputs": [],
   "source": []
  },
  {
   "cell_type": "code",
   "execution_count": null,
   "id": "5c1fdc37",
   "metadata": {},
   "outputs": [],
   "source": []
  },
  {
   "cell_type": "code",
   "execution_count": 63,
   "id": "eaae2ec5",
   "metadata": {},
   "outputs": [
    {
     "data": {
      "text/html": [
       "<div>\n",
       "<style scoped>\n",
       "    .dataframe tbody tr th:only-of-type {\n",
       "        vertical-align: middle;\n",
       "    }\n",
       "\n",
       "    .dataframe tbody tr th {\n",
       "        vertical-align: top;\n",
       "    }\n",
       "\n",
       "    .dataframe thead th {\n",
       "        text-align: right;\n",
       "    }\n",
       "</style>\n",
       "<table border=\"1\" class=\"dataframe\">\n",
       "  <thead>\n",
       "    <tr style=\"text-align: right;\">\n",
       "      <th></th>\n",
       "      <th>vendor_id</th>\n",
       "      <th>pickup_datetime</th>\n",
       "      <th>dropoff_datetime</th>\n",
       "      <th>passenger_count</th>\n",
       "      <th>pickup_longitude</th>\n",
       "      <th>pickup_latitude</th>\n",
       "      <th>dropoff_longitude</th>\n",
       "      <th>dropoff_latitude</th>\n",
       "      <th>trip_duration</th>\n",
       "    </tr>\n",
       "  </thead>\n",
       "  <tbody>\n",
       "    <tr>\n",
       "      <th>0</th>\n",
       "      <td>2.0</td>\n",
       "      <td>1.453284e+09</td>\n",
       "      <td>1.453285e+09</td>\n",
       "      <td>3</td>\n",
       "      <td>-73.978508</td>\n",
       "      <td>40.782879</td>\n",
       "      <td>-73.978409</td>\n",
       "      <td>40.751518</td>\n",
       "      <td>917</td>\n",
       "    </tr>\n",
       "    <tr>\n",
       "      <th>1</th>\n",
       "      <td>2.0</td>\n",
       "      <td>1.460542e+09</td>\n",
       "      <td>1.460543e+09</td>\n",
       "      <td>1</td>\n",
       "      <td>-73.976028</td>\n",
       "      <td>40.748531</td>\n",
       "      <td>-73.969757</td>\n",
       "      <td>40.761204</td>\n",
       "      <td>865</td>\n",
       "    </tr>\n",
       "    <tr>\n",
       "      <th>2</th>\n",
       "      <td>2.0</td>\n",
       "      <td>1.466607e+09</td>\n",
       "      <td>1.466607e+09</td>\n",
       "      <td>6</td>\n",
       "      <td>-73.998611</td>\n",
       "      <td>40.740551</td>\n",
       "      <td>-74.006638</td>\n",
       "      <td>40.743999</td>\n",
       "      <td>123</td>\n",
       "    </tr>\n",
       "    <tr>\n",
       "      <th>3</th>\n",
       "      <td>2.0</td>\n",
       "      <td>1.461575e+09</td>\n",
       "      <td>1.461575e+09</td>\n",
       "      <td>1</td>\n",
       "      <td>-74.005547</td>\n",
       "      <td>40.739964</td>\n",
       "      <td>-73.997215</td>\n",
       "      <td>40.722374</td>\n",
       "      <td>780</td>\n",
       "    </tr>\n",
       "    <tr>\n",
       "      <th>4</th>\n",
       "      <td>1.0</td>\n",
       "      <td>1.461090e+09</td>\n",
       "      <td>1.461091e+09</td>\n",
       "      <td>1</td>\n",
       "      <td>-73.977631</td>\n",
       "      <td>40.758034</td>\n",
       "      <td>-73.977608</td>\n",
       "      <td>40.749466</td>\n",
       "      <td>840</td>\n",
       "    </tr>\n",
       "  </tbody>\n",
       "</table>\n",
       "</div>"
      ],
      "text/plain": [
       "   vendor_id  pickup_datetime  dropoff_datetime  passenger_count  \\\n",
       "0        2.0     1.453284e+09      1.453285e+09                3   \n",
       "1        2.0     1.460542e+09      1.460543e+09                1   \n",
       "2        2.0     1.466607e+09      1.466607e+09                6   \n",
       "3        2.0     1.461575e+09      1.461575e+09                1   \n",
       "4        1.0     1.461090e+09      1.461091e+09                1   \n",
       "\n",
       "   pickup_longitude  pickup_latitude  dropoff_longitude  dropoff_latitude  \\\n",
       "0        -73.978508        40.782879         -73.978409         40.751518   \n",
       "1        -73.976028        40.748531         -73.969757         40.761204   \n",
       "2        -73.998611        40.740551         -74.006638         40.743999   \n",
       "3        -74.005547        40.739964         -73.997215         40.722374   \n",
       "4        -73.977631        40.758034         -73.977608         40.749466   \n",
       "\n",
       "   trip_duration  \n",
       "0            917  \n",
       "1            865  \n",
       "2            123  \n",
       "3            780  \n",
       "4            840  "
      ]
     },
     "execution_count": 63,
     "metadata": {},
     "output_type": "execute_result"
    }
   ],
   "source": [
    "data = pd.read_csv('../data/trip_duration_task_obr.csv').sample(20000).reset_index(drop=True)\n",
    "data.drop(['Unnamed: 0'], axis=1, inplace=True)\n",
    "data.head()"
   ]
  },
  {
   "cell_type": "code",
   "execution_count": 64,
   "id": "57229af2",
   "metadata": {},
   "outputs": [
    {
     "name": "stdout",
     "output_type": "stream",
     "text": [
      "<class 'pandas.core.frame.DataFrame'>\n",
      "RangeIndex: 20000 entries, 0 to 19999\n",
      "Data columns (total 9 columns):\n",
      " #   Column             Non-Null Count  Dtype  \n",
      "---  ------             --------------  -----  \n",
      " 0   vendor_id          20000 non-null  float64\n",
      " 1   pickup_datetime    20000 non-null  float64\n",
      " 2   dropoff_datetime   20000 non-null  float64\n",
      " 3   passenger_count    20000 non-null  int64  \n",
      " 4   pickup_longitude   20000 non-null  float64\n",
      " 5   pickup_latitude    20000 non-null  float64\n",
      " 6   dropoff_longitude  20000 non-null  float64\n",
      " 7   dropoff_latitude   20000 non-null  float64\n",
      " 8   trip_duration      20000 non-null  int64  \n",
      "dtypes: float64(7), int64(2)\n",
      "memory usage: 1.4 MB\n"
     ]
    }
   ],
   "source": [
    "data.info()"
   ]
  },
  {
   "cell_type": "code",
   "execution_count": 65,
   "id": "fe594dbf",
   "metadata": {},
   "outputs": [
    {
     "data": {
      "text/plain": [
       "vendor_id           -0.002827\n",
       "pickup_datetime      0.006489\n",
       "dropoff_datetime     0.007226\n",
       "passenger_count      0.023321\n",
       "pickup_longitude     0.047193\n",
       "pickup_latitude     -0.000470\n",
       "dropoff_longitude    0.054456\n",
       "dropoff_latitude    -0.028673\n",
       "dtype: float64"
      ]
     },
     "execution_count": 65,
     "metadata": {},
     "output_type": "execute_result"
    }
   ],
   "source": [
    "data.loc[ : , data.columns != 'trip_duration'].corrwith(data['trip_duration'])"
   ]
  },
  {
   "cell_type": "code",
   "execution_count": 66,
   "id": "6c5c6286",
   "metadata": {},
   "outputs": [],
   "source": [
    "from sklearn.preprocessing import scale\n",
    "from sklearn.utils import shuffle\n",
    "from sklearn.linear_model import LinearRegression"
   ]
  },
  {
   "cell_type": "code",
   "execution_count": 67,
   "id": "908ab159",
   "metadata": {},
   "outputs": [],
   "source": [
    "#data_shuffled = shuffle(data, random_state=123)\n",
    "#X = scale(data_shuffled[data_shuffled.loc[ : , data.columns != 'trip_duration']])\n",
    "#y = data_shuffled[\"trip_duration\"]"
   ]
  },
  {
   "cell_type": "code",
   "execution_count": 68,
   "id": "490d3a63",
   "metadata": {},
   "outputs": [],
   "source": [
    "y = data[\"trip_duration\"]\n",
    "X = data.drop([\"trip_duration\"], axis=1)"
   ]
  },
  {
   "cell_type": "code",
   "execution_count": 69,
   "id": "6bb1a720",
   "metadata": {},
   "outputs": [
    {
     "data": {
      "text/plain": [
       "0         917\n",
       "1         865\n",
       "2         123\n",
       "3         780\n",
       "4         840\n",
       "         ... \n",
       "19995    1216\n",
       "19996     407\n",
       "19997    2080\n",
       "19998    1101\n",
       "19999     740\n",
       "Name: trip_duration, Length: 20000, dtype: int64"
      ]
     },
     "execution_count": 69,
     "metadata": {},
     "output_type": "execute_result"
    }
   ],
   "source": [
    "y"
   ]
  },
  {
   "cell_type": "code",
   "execution_count": 70,
   "id": "e30e59f5",
   "metadata": {},
   "outputs": [
    {
     "data": {
      "text/html": [
       "<div>\n",
       "<style scoped>\n",
       "    .dataframe tbody tr th:only-of-type {\n",
       "        vertical-align: middle;\n",
       "    }\n",
       "\n",
       "    .dataframe tbody tr th {\n",
       "        vertical-align: top;\n",
       "    }\n",
       "\n",
       "    .dataframe thead th {\n",
       "        text-align: right;\n",
       "    }\n",
       "</style>\n",
       "<table border=\"1\" class=\"dataframe\">\n",
       "  <thead>\n",
       "    <tr style=\"text-align: right;\">\n",
       "      <th></th>\n",
       "      <th>vendor_id</th>\n",
       "      <th>pickup_datetime</th>\n",
       "      <th>dropoff_datetime</th>\n",
       "      <th>passenger_count</th>\n",
       "      <th>pickup_longitude</th>\n",
       "      <th>pickup_latitude</th>\n",
       "      <th>dropoff_longitude</th>\n",
       "      <th>dropoff_latitude</th>\n",
       "    </tr>\n",
       "  </thead>\n",
       "  <tbody>\n",
       "    <tr>\n",
       "      <th>0</th>\n",
       "      <td>2.0</td>\n",
       "      <td>1.453284e+09</td>\n",
       "      <td>1.453285e+09</td>\n",
       "      <td>3</td>\n",
       "      <td>-73.978508</td>\n",
       "      <td>40.782879</td>\n",
       "      <td>-73.978409</td>\n",
       "      <td>40.751518</td>\n",
       "    </tr>\n",
       "    <tr>\n",
       "      <th>1</th>\n",
       "      <td>2.0</td>\n",
       "      <td>1.460542e+09</td>\n",
       "      <td>1.460543e+09</td>\n",
       "      <td>1</td>\n",
       "      <td>-73.976028</td>\n",
       "      <td>40.748531</td>\n",
       "      <td>-73.969757</td>\n",
       "      <td>40.761204</td>\n",
       "    </tr>\n",
       "    <tr>\n",
       "      <th>2</th>\n",
       "      <td>2.0</td>\n",
       "      <td>1.466607e+09</td>\n",
       "      <td>1.466607e+09</td>\n",
       "      <td>6</td>\n",
       "      <td>-73.998611</td>\n",
       "      <td>40.740551</td>\n",
       "      <td>-74.006638</td>\n",
       "      <td>40.743999</td>\n",
       "    </tr>\n",
       "    <tr>\n",
       "      <th>3</th>\n",
       "      <td>2.0</td>\n",
       "      <td>1.461575e+09</td>\n",
       "      <td>1.461575e+09</td>\n",
       "      <td>1</td>\n",
       "      <td>-74.005547</td>\n",
       "      <td>40.739964</td>\n",
       "      <td>-73.997215</td>\n",
       "      <td>40.722374</td>\n",
       "    </tr>\n",
       "    <tr>\n",
       "      <th>4</th>\n",
       "      <td>1.0</td>\n",
       "      <td>1.461090e+09</td>\n",
       "      <td>1.461091e+09</td>\n",
       "      <td>1</td>\n",
       "      <td>-73.977631</td>\n",
       "      <td>40.758034</td>\n",
       "      <td>-73.977608</td>\n",
       "      <td>40.749466</td>\n",
       "    </tr>\n",
       "    <tr>\n",
       "      <th>...</th>\n",
       "      <td>...</td>\n",
       "      <td>...</td>\n",
       "      <td>...</td>\n",
       "      <td>...</td>\n",
       "      <td>...</td>\n",
       "      <td>...</td>\n",
       "      <td>...</td>\n",
       "      <td>...</td>\n",
       "    </tr>\n",
       "    <tr>\n",
       "      <th>19995</th>\n",
       "      <td>1.0</td>\n",
       "      <td>1.451915e+09</td>\n",
       "      <td>1.451917e+09</td>\n",
       "      <td>1</td>\n",
       "      <td>-73.958488</td>\n",
       "      <td>40.713387</td>\n",
       "      <td>-73.986519</td>\n",
       "      <td>40.762260</td>\n",
       "    </tr>\n",
       "    <tr>\n",
       "      <th>19996</th>\n",
       "      <td>2.0</td>\n",
       "      <td>1.462935e+09</td>\n",
       "      <td>1.462936e+09</td>\n",
       "      <td>1</td>\n",
       "      <td>-73.975143</td>\n",
       "      <td>40.755959</td>\n",
       "      <td>-73.969559</td>\n",
       "      <td>40.764851</td>\n",
       "    </tr>\n",
       "    <tr>\n",
       "      <th>19997</th>\n",
       "      <td>2.0</td>\n",
       "      <td>1.458757e+09</td>\n",
       "      <td>1.458759e+09</td>\n",
       "      <td>1</td>\n",
       "      <td>-73.958679</td>\n",
       "      <td>40.721180</td>\n",
       "      <td>-73.947250</td>\n",
       "      <td>40.823238</td>\n",
       "    </tr>\n",
       "    <tr>\n",
       "      <th>19998</th>\n",
       "      <td>1.0</td>\n",
       "      <td>1.455489e+09</td>\n",
       "      <td>1.455490e+09</td>\n",
       "      <td>1</td>\n",
       "      <td>-73.957558</td>\n",
       "      <td>40.709084</td>\n",
       "      <td>-73.991394</td>\n",
       "      <td>40.749249</td>\n",
       "    </tr>\n",
       "    <tr>\n",
       "      <th>19999</th>\n",
       "      <td>1.0</td>\n",
       "      <td>1.462118e+09</td>\n",
       "      <td>1.462119e+09</td>\n",
       "      <td>1</td>\n",
       "      <td>-73.994400</td>\n",
       "      <td>40.750217</td>\n",
       "      <td>-73.986969</td>\n",
       "      <td>40.729343</td>\n",
       "    </tr>\n",
       "  </tbody>\n",
       "</table>\n",
       "<p>20000 rows × 8 columns</p>\n",
       "</div>"
      ],
      "text/plain": [
       "       vendor_id  pickup_datetime  dropoff_datetime  passenger_count  \\\n",
       "0            2.0     1.453284e+09      1.453285e+09                3   \n",
       "1            2.0     1.460542e+09      1.460543e+09                1   \n",
       "2            2.0     1.466607e+09      1.466607e+09                6   \n",
       "3            2.0     1.461575e+09      1.461575e+09                1   \n",
       "4            1.0     1.461090e+09      1.461091e+09                1   \n",
       "...          ...              ...               ...              ...   \n",
       "19995        1.0     1.451915e+09      1.451917e+09                1   \n",
       "19996        2.0     1.462935e+09      1.462936e+09                1   \n",
       "19997        2.0     1.458757e+09      1.458759e+09                1   \n",
       "19998        1.0     1.455489e+09      1.455490e+09                1   \n",
       "19999        1.0     1.462118e+09      1.462119e+09                1   \n",
       "\n",
       "       pickup_longitude  pickup_latitude  dropoff_longitude  dropoff_latitude  \n",
       "0            -73.978508        40.782879         -73.978409         40.751518  \n",
       "1            -73.976028        40.748531         -73.969757         40.761204  \n",
       "2            -73.998611        40.740551         -74.006638         40.743999  \n",
       "3            -74.005547        40.739964         -73.997215         40.722374  \n",
       "4            -73.977631        40.758034         -73.977608         40.749466  \n",
       "...                 ...              ...                ...               ...  \n",
       "19995        -73.958488        40.713387         -73.986519         40.762260  \n",
       "19996        -73.975143        40.755959         -73.969559         40.764851  \n",
       "19997        -73.958679        40.721180         -73.947250         40.823238  \n",
       "19998        -73.957558        40.709084         -73.991394         40.749249  \n",
       "19999        -73.994400        40.750217         -73.986969         40.729343  \n",
       "\n",
       "[20000 rows x 8 columns]"
      ]
     },
     "execution_count": 70,
     "metadata": {},
     "output_type": "execute_result"
    }
   ],
   "source": [
    "X"
   ]
  },
  {
   "cell_type": "code",
   "execution_count": 71,
   "id": "119f580a",
   "metadata": {},
   "outputs": [],
   "source": [
    "from sklearn.model_selection import train_test_split\n",
    "X_train, X_test, y_train, y_test = train_test_split(X, y, test_size=0.2)"
   ]
  },
  {
   "cell_type": "code",
   "execution_count": 72,
   "id": "cd458162",
   "metadata": {},
   "outputs": [
    {
     "data": {
      "text/plain": [
       "((16000, 8), (16000,), (4000, 8), (4000,))"
      ]
     },
     "execution_count": 72,
     "metadata": {},
     "output_type": "execute_result"
    }
   ],
   "source": [
    "X_train.shape, y_train.shape, X_test.shape, y_test.shape"
   ]
  },
  {
   "cell_type": "code",
   "execution_count": 73,
   "id": "3d8979ee",
   "metadata": {},
   "outputs": [],
   "source": [
    "from sklearn.linear_model import LinearRegression, Lasso, Ridge"
   ]
  },
  {
   "cell_type": "code",
   "execution_count": 74,
   "id": "a52a5143",
   "metadata": {},
   "outputs": [],
   "source": [
    "lr = LinearRegression().fit(X_train, y_train)"
   ]
  },
  {
   "cell_type": "code",
   "execution_count": 75,
   "id": "4decf418",
   "metadata": {},
   "outputs": [
    {
     "data": {
      "text/plain": [
       "array([ 759.00000003,  654.00000003,  142.00000003, ...,  220.00000003,\n",
       "       1015.00000003,  886.00000003])"
      ]
     },
     "execution_count": 75,
     "metadata": {},
     "output_type": "execute_result"
    }
   ],
   "source": [
    "lr.predict(X_test)"
   ]
  },
  {
   "cell_type": "code",
   "execution_count": 76,
   "id": "ea00d156",
   "metadata": {},
   "outputs": [],
   "source": [
    "from sklearn.metrics import mean_squared_error, mean_absolute_error, mean_absolute_percentage_error\n",
    "from math import sqrt"
   ]
  },
  {
   "cell_type": "code",
   "execution_count": 77,
   "id": "842f7f49",
   "metadata": {},
   "outputs": [],
   "source": [
    "y_pred = lr.predict(X_test)"
   ]
  },
  {
   "cell_type": "code",
   "execution_count": 78,
   "id": "1af083d5",
   "metadata": {},
   "outputs": [
    {
     "name": "stdout",
     "output_type": "stream",
     "text": [
      "MAE: 3.4332249751245494e-08\n",
      "MSE: 1.1787034504616954e-15\n",
      "RMSE: 3.4332250879627675e-08\n",
      "MAPE: 9.543962701012525e-11\n",
      "R^2: 1.0\n"
     ]
    }
   ],
   "source": [
    "print(f'MAE: {mean_absolute_error(y_test, y_pred)}')\n",
    "print(f'MSE: {mean_squared_error(y_test, y_pred)}')\n",
    "print(f'RMSE: {sqrt(mean_squared_error(y_test, y_pred))}')\n",
    "print(f'MAPE: {mean_absolute_percentage_error(y_test, y_pred)}')\n",
    "print(f'R^2: {lr.score(X_test, y_test)}')"
   ]
  },
  {
   "cell_type": "code",
   "execution_count": 79,
   "id": "58548fc2",
   "metadata": {},
   "outputs": [
    {
     "name": "stdout",
     "output_type": "stream",
     "text": [
      "[('vendor_id', -4.494765401565355e-12), ('pickup_datetime', -0.9999999999999989), ('dropoff_datetime', 0.9999999999999987), ('passenger_count', -5.4874562863970476e-12), ('pickup_longitude', 1.1997924768134202e-10), ('pickup_latitude', -1.1985716982220585e-13), ('dropoff_longitude', -4.383357422173528e-12), ('dropoff_latitude', -4.0673795623123505e-11)]\n"
     ]
    }
   ],
   "source": [
    "len(lr.coef_)\n",
    "l=zip(data.columns, lr.coef_)\n",
    "print(list(l))"
   ]
  },
  {
   "cell_type": "code",
   "execution_count": 80,
   "id": "3b849b48",
   "metadata": {},
   "outputs": [],
   "source": [
    "from sklearn.model_selection import GridSearchCV, RandomizedSearchCV\n",
    "import numpy as np"
   ]
  },
  {
   "cell_type": "code",
   "execution_count": 81,
   "id": "46969c8c",
   "metadata": {},
   "outputs": [],
   "source": [
    "parameters = {'alpha': np.arange(0, 1, 0.1)}"
   ]
  },
  {
   "cell_type": "code",
   "execution_count": 82,
   "id": "0e101f97",
   "metadata": {},
   "outputs": [
    {
     "name": "stderr",
     "output_type": "stream",
     "text": [
      "C:\\machine_learning\\venv\\lib\\site-packages\\sklearn\\model_selection\\_validation.py:686: UserWarning: With alpha=0, this algorithm does not converge well. You are advised to use the LinearRegression estimator\n",
      "  estimator.fit(X_train, y_train, **fit_params)\n",
      "C:\\machine_learning\\venv\\lib\\site-packages\\sklearn\\linear_model\\_coordinate_descent.py:631: UserWarning: Coordinate descent with no regularization may lead to unexpected results and is discouraged.\n",
      "  model = cd_fast.enet_coordinate_descent(\n",
      "C:\\machine_learning\\venv\\lib\\site-packages\\sklearn\\linear_model\\_coordinate_descent.py:631: ConvergenceWarning: Objective did not converge. You might want to increase the number of iterations, check the scale of the features or consider increasing regularisation. Duality gap: 6.353e+10, tolerance: 1.280e+07 Linear regression models with null weight for the l1 regularization term are more efficiently fitted using one of the solvers implemented in sklearn.linear_model.Ridge/RidgeCV instead.\n",
      "  model = cd_fast.enet_coordinate_descent(\n",
      "C:\\machine_learning\\venv\\lib\\site-packages\\sklearn\\model_selection\\_validation.py:686: UserWarning: With alpha=0, this algorithm does not converge well. You are advised to use the LinearRegression estimator\n",
      "  estimator.fit(X_train, y_train, **fit_params)\n",
      "C:\\machine_learning\\venv\\lib\\site-packages\\sklearn\\linear_model\\_coordinate_descent.py:631: UserWarning: Coordinate descent with no regularization may lead to unexpected results and is discouraged.\n",
      "  model = cd_fast.enet_coordinate_descent(\n",
      "C:\\machine_learning\\venv\\lib\\site-packages\\sklearn\\linear_model\\_coordinate_descent.py:631: ConvergenceWarning: Objective did not converge. You might want to increase the number of iterations, check the scale of the features or consider increasing regularisation. Duality gap: 6.928e+10, tolerance: 1.396e+07 Linear regression models with null weight for the l1 regularization term are more efficiently fitted using one of the solvers implemented in sklearn.linear_model.Ridge/RidgeCV instead.\n",
      "  model = cd_fast.enet_coordinate_descent(\n",
      "C:\\machine_learning\\venv\\lib\\site-packages\\sklearn\\model_selection\\_validation.py:686: UserWarning: With alpha=0, this algorithm does not converge well. You are advised to use the LinearRegression estimator\n",
      "  estimator.fit(X_train, y_train, **fit_params)\n",
      "C:\\machine_learning\\venv\\lib\\site-packages\\sklearn\\linear_model\\_coordinate_descent.py:631: UserWarning: Coordinate descent with no regularization may lead to unexpected results and is discouraged.\n",
      "  model = cd_fast.enet_coordinate_descent(\n",
      "C:\\machine_learning\\venv\\lib\\site-packages\\sklearn\\linear_model\\_coordinate_descent.py:631: ConvergenceWarning: Objective did not converge. You might want to increase the number of iterations, check the scale of the features or consider increasing regularisation. Duality gap: 7.970e+10, tolerance: 1.605e+07 Linear regression models with null weight for the l1 regularization term are more efficiently fitted using one of the solvers implemented in sklearn.linear_model.Ridge/RidgeCV instead.\n",
      "  model = cd_fast.enet_coordinate_descent(\n",
      "C:\\machine_learning\\venv\\lib\\site-packages\\sklearn\\model_selection\\_validation.py:686: UserWarning: With alpha=0, this algorithm does not converge well. You are advised to use the LinearRegression estimator\n",
      "  estimator.fit(X_train, y_train, **fit_params)\n",
      "C:\\machine_learning\\venv\\lib\\site-packages\\sklearn\\linear_model\\_coordinate_descent.py:631: UserWarning: Coordinate descent with no regularization may lead to unexpected results and is discouraged.\n",
      "  model = cd_fast.enet_coordinate_descent(\n",
      "C:\\machine_learning\\venv\\lib\\site-packages\\sklearn\\linear_model\\_coordinate_descent.py:631: ConvergenceWarning: Objective did not converge. You might want to increase the number of iterations, check the scale of the features or consider increasing regularisation. Duality gap: 7.182e+10, tolerance: 1.448e+07 Linear regression models with null weight for the l1 regularization term are more efficiently fitted using one of the solvers implemented in sklearn.linear_model.Ridge/RidgeCV instead.\n",
      "  model = cd_fast.enet_coordinate_descent(\n",
      "C:\\machine_learning\\venv\\lib\\site-packages\\sklearn\\model_selection\\_validation.py:686: UserWarning: With alpha=0, this algorithm does not converge well. You are advised to use the LinearRegression estimator\n",
      "  estimator.fit(X_train, y_train, **fit_params)\n",
      "C:\\machine_learning\\venv\\lib\\site-packages\\sklearn\\linear_model\\_coordinate_descent.py:631: UserWarning: Coordinate descent with no regularization may lead to unexpected results and is discouraged.\n",
      "  model = cd_fast.enet_coordinate_descent(\n",
      "C:\\machine_learning\\venv\\lib\\site-packages\\sklearn\\linear_model\\_coordinate_descent.py:631: ConvergenceWarning: Objective did not converge. You might want to increase the number of iterations, check the scale of the features or consider increasing regularisation. Duality gap: 6.574e+10, tolerance: 1.327e+07 Linear regression models with null weight for the l1 regularization term are more efficiently fitted using one of the solvers implemented in sklearn.linear_model.Ridge/RidgeCV instead.\n",
      "  model = cd_fast.enet_coordinate_descent(\n",
      "C:\\machine_learning\\venv\\lib\\site-packages\\sklearn\\linear_model\\_coordinate_descent.py:631: ConvergenceWarning: Objective did not converge. You might want to increase the number of iterations, check the scale of the features or consider increasing regularisation. Duality gap: 6.355e+10, tolerance: 1.280e+07\n",
      "  model = cd_fast.enet_coordinate_descent(\n",
      "C:\\machine_learning\\venv\\lib\\site-packages\\sklearn\\linear_model\\_coordinate_descent.py:631: ConvergenceWarning: Objective did not converge. You might want to increase the number of iterations, check the scale of the features or consider increasing regularisation. Duality gap: 6.930e+10, tolerance: 1.396e+07\n",
      "  model = cd_fast.enet_coordinate_descent(\n",
      "C:\\machine_learning\\venv\\lib\\site-packages\\sklearn\\linear_model\\_coordinate_descent.py:631: ConvergenceWarning: Objective did not converge. You might want to increase the number of iterations, check the scale of the features or consider increasing regularisation. Duality gap: 7.971e+10, tolerance: 1.605e+07\n",
      "  model = cd_fast.enet_coordinate_descent(\n",
      "C:\\machine_learning\\venv\\lib\\site-packages\\sklearn\\linear_model\\_coordinate_descent.py:631: ConvergenceWarning: Objective did not converge. You might want to increase the number of iterations, check the scale of the features or consider increasing regularisation. Duality gap: 7.184e+10, tolerance: 1.448e+07\n",
      "  model = cd_fast.enet_coordinate_descent(\n",
      "C:\\machine_learning\\venv\\lib\\site-packages\\sklearn\\linear_model\\_coordinate_descent.py:631: ConvergenceWarning: Objective did not converge. You might want to increase the number of iterations, check the scale of the features or consider increasing regularisation. Duality gap: 6.576e+10, tolerance: 1.327e+07\n",
      "  model = cd_fast.enet_coordinate_descent(\n",
      "C:\\machine_learning\\venv\\lib\\site-packages\\sklearn\\linear_model\\_coordinate_descent.py:631: ConvergenceWarning: Objective did not converge. You might want to increase the number of iterations, check the scale of the features or consider increasing regularisation. Duality gap: 6.356e+10, tolerance: 1.280e+07\n",
      "  model = cd_fast.enet_coordinate_descent(\n",
      "C:\\machine_learning\\venv\\lib\\site-packages\\sklearn\\linear_model\\_coordinate_descent.py:631: ConvergenceWarning: Objective did not converge. You might want to increase the number of iterations, check the scale of the features or consider increasing regularisation. Duality gap: 6.931e+10, tolerance: 1.396e+07\n",
      "  model = cd_fast.enet_coordinate_descent(\n",
      "C:\\machine_learning\\venv\\lib\\site-packages\\sklearn\\linear_model\\_coordinate_descent.py:631: ConvergenceWarning: Objective did not converge. You might want to increase the number of iterations, check the scale of the features or consider increasing regularisation. Duality gap: 7.973e+10, tolerance: 1.605e+07\n",
      "  model = cd_fast.enet_coordinate_descent(\n",
      "C:\\machine_learning\\venv\\lib\\site-packages\\sklearn\\linear_model\\_coordinate_descent.py:631: ConvergenceWarning: Objective did not converge. You might want to increase the number of iterations, check the scale of the features or consider increasing regularisation. Duality gap: 7.185e+10, tolerance: 1.448e+07\n",
      "  model = cd_fast.enet_coordinate_descent(\n"
     ]
    },
    {
     "name": "stderr",
     "output_type": "stream",
     "text": [
      "C:\\machine_learning\\venv\\lib\\site-packages\\sklearn\\linear_model\\_coordinate_descent.py:631: ConvergenceWarning: Objective did not converge. You might want to increase the number of iterations, check the scale of the features or consider increasing regularisation. Duality gap: 6.577e+10, tolerance: 1.327e+07\n",
      "  model = cd_fast.enet_coordinate_descent(\n",
      "C:\\machine_learning\\venv\\lib\\site-packages\\sklearn\\linear_model\\_coordinate_descent.py:631: ConvergenceWarning: Objective did not converge. You might want to increase the number of iterations, check the scale of the features or consider increasing regularisation. Duality gap: 6.357e+10, tolerance: 1.280e+07\n",
      "  model = cd_fast.enet_coordinate_descent(\n",
      "C:\\machine_learning\\venv\\lib\\site-packages\\sklearn\\linear_model\\_coordinate_descent.py:631: ConvergenceWarning: Objective did not converge. You might want to increase the number of iterations, check the scale of the features or consider increasing regularisation. Duality gap: 6.932e+10, tolerance: 1.396e+07\n",
      "  model = cd_fast.enet_coordinate_descent(\n",
      "C:\\machine_learning\\venv\\lib\\site-packages\\sklearn\\linear_model\\_coordinate_descent.py:631: ConvergenceWarning: Objective did not converge. You might want to increase the number of iterations, check the scale of the features or consider increasing regularisation. Duality gap: 7.974e+10, tolerance: 1.605e+07\n",
      "  model = cd_fast.enet_coordinate_descent(\n",
      "C:\\machine_learning\\venv\\lib\\site-packages\\sklearn\\linear_model\\_coordinate_descent.py:631: ConvergenceWarning: Objective did not converge. You might want to increase the number of iterations, check the scale of the features or consider increasing regularisation. Duality gap: 7.187e+10, tolerance: 1.448e+07\n",
      "  model = cd_fast.enet_coordinate_descent(\n",
      "C:\\machine_learning\\venv\\lib\\site-packages\\sklearn\\linear_model\\_coordinate_descent.py:631: ConvergenceWarning: Objective did not converge. You might want to increase the number of iterations, check the scale of the features or consider increasing regularisation. Duality gap: 6.579e+10, tolerance: 1.327e+07\n",
      "  model = cd_fast.enet_coordinate_descent(\n",
      "C:\\machine_learning\\venv\\lib\\site-packages\\sklearn\\linear_model\\_coordinate_descent.py:631: ConvergenceWarning: Objective did not converge. You might want to increase the number of iterations, check the scale of the features or consider increasing regularisation. Duality gap: 6.358e+10, tolerance: 1.280e+07\n",
      "  model = cd_fast.enet_coordinate_descent(\n",
      "C:\\machine_learning\\venv\\lib\\site-packages\\sklearn\\linear_model\\_coordinate_descent.py:631: ConvergenceWarning: Objective did not converge. You might want to increase the number of iterations, check the scale of the features or consider increasing regularisation. Duality gap: 6.934e+10, tolerance: 1.396e+07\n",
      "  model = cd_fast.enet_coordinate_descent(\n",
      "C:\\machine_learning\\venv\\lib\\site-packages\\sklearn\\linear_model\\_coordinate_descent.py:631: ConvergenceWarning: Objective did not converge. You might want to increase the number of iterations, check the scale of the features or consider increasing regularisation. Duality gap: 7.975e+10, tolerance: 1.605e+07\n",
      "  model = cd_fast.enet_coordinate_descent(\n",
      "C:\\machine_learning\\venv\\lib\\site-packages\\sklearn\\linear_model\\_coordinate_descent.py:631: ConvergenceWarning: Objective did not converge. You might want to increase the number of iterations, check the scale of the features or consider increasing regularisation. Duality gap: 7.188e+10, tolerance: 1.448e+07\n",
      "  model = cd_fast.enet_coordinate_descent(\n",
      "C:\\machine_learning\\venv\\lib\\site-packages\\sklearn\\linear_model\\_coordinate_descent.py:631: ConvergenceWarning: Objective did not converge. You might want to increase the number of iterations, check the scale of the features or consider increasing regularisation. Duality gap: 6.580e+10, tolerance: 1.327e+07\n",
      "  model = cd_fast.enet_coordinate_descent(\n",
      "C:\\machine_learning\\venv\\lib\\site-packages\\sklearn\\linear_model\\_coordinate_descent.py:631: ConvergenceWarning: Objective did not converge. You might want to increase the number of iterations, check the scale of the features or consider increasing regularisation. Duality gap: 6.360e+10, tolerance: 1.280e+07\n",
      "  model = cd_fast.enet_coordinate_descent(\n",
      "C:\\machine_learning\\venv\\lib\\site-packages\\sklearn\\linear_model\\_coordinate_descent.py:631: ConvergenceWarning: Objective did not converge. You might want to increase the number of iterations, check the scale of the features or consider increasing regularisation. Duality gap: 6.935e+10, tolerance: 1.396e+07\n",
      "  model = cd_fast.enet_coordinate_descent(\n",
      "C:\\machine_learning\\venv\\lib\\site-packages\\sklearn\\linear_model\\_coordinate_descent.py:631: ConvergenceWarning: Objective did not converge. You might want to increase the number of iterations, check the scale of the features or consider increasing regularisation. Duality gap: 7.976e+10, tolerance: 1.605e+07\n",
      "  model = cd_fast.enet_coordinate_descent(\n",
      "C:\\machine_learning\\venv\\lib\\site-packages\\sklearn\\linear_model\\_coordinate_descent.py:631: ConvergenceWarning: Objective did not converge. You might want to increase the number of iterations, check the scale of the features or consider increasing regularisation. Duality gap: 7.190e+10, tolerance: 1.448e+07\n",
      "  model = cd_fast.enet_coordinate_descent(\n",
      "C:\\machine_learning\\venv\\lib\\site-packages\\sklearn\\linear_model\\_coordinate_descent.py:631: ConvergenceWarning: Objective did not converge. You might want to increase the number of iterations, check the scale of the features or consider increasing regularisation. Duality gap: 6.582e+10, tolerance: 1.327e+07\n",
      "  model = cd_fast.enet_coordinate_descent(\n",
      "C:\\machine_learning\\venv\\lib\\site-packages\\sklearn\\linear_model\\_coordinate_descent.py:631: ConvergenceWarning: Objective did not converge. You might want to increase the number of iterations, check the scale of the features or consider increasing regularisation. Duality gap: 6.361e+10, tolerance: 1.280e+07\n",
      "  model = cd_fast.enet_coordinate_descent(\n",
      "C:\\machine_learning\\venv\\lib\\site-packages\\sklearn\\linear_model\\_coordinate_descent.py:631: ConvergenceWarning: Objective did not converge. You might want to increase the number of iterations, check the scale of the features or consider increasing regularisation. Duality gap: 6.936e+10, tolerance: 1.396e+07\n",
      "  model = cd_fast.enet_coordinate_descent(\n",
      "C:\\machine_learning\\venv\\lib\\site-packages\\sklearn\\linear_model\\_coordinate_descent.py:631: ConvergenceWarning: Objective did not converge. You might want to increase the number of iterations, check the scale of the features or consider increasing regularisation. Duality gap: 7.977e+10, tolerance: 1.605e+07\n",
      "  model = cd_fast.enet_coordinate_descent(\n",
      "C:\\machine_learning\\venv\\lib\\site-packages\\sklearn\\linear_model\\_coordinate_descent.py:631: ConvergenceWarning: Objective did not converge. You might want to increase the number of iterations, check the scale of the features or consider increasing regularisation. Duality gap: 7.191e+10, tolerance: 1.448e+07\n",
      "  model = cd_fast.enet_coordinate_descent(\n",
      "C:\\machine_learning\\venv\\lib\\site-packages\\sklearn\\linear_model\\_coordinate_descent.py:631: ConvergenceWarning: Objective did not converge. You might want to increase the number of iterations, check the scale of the features or consider increasing regularisation. Duality gap: 6.583e+10, tolerance: 1.327e+07\n",
      "  model = cd_fast.enet_coordinate_descent(\n",
      "C:\\machine_learning\\venv\\lib\\site-packages\\sklearn\\linear_model\\_coordinate_descent.py:631: ConvergenceWarning: Objective did not converge. You might want to increase the number of iterations, check the scale of the features or consider increasing regularisation. Duality gap: 6.362e+10, tolerance: 1.280e+07\n",
      "  model = cd_fast.enet_coordinate_descent(\n",
      "C:\\machine_learning\\venv\\lib\\site-packages\\sklearn\\linear_model\\_coordinate_descent.py:631: ConvergenceWarning: Objective did not converge. You might want to increase the number of iterations, check the scale of the features or consider increasing regularisation. Duality gap: 6.937e+10, tolerance: 1.396e+07\n",
      "  model = cd_fast.enet_coordinate_descent(\n",
      "C:\\machine_learning\\venv\\lib\\site-packages\\sklearn\\linear_model\\_coordinate_descent.py:631: ConvergenceWarning: Objective did not converge. You might want to increase the number of iterations, check the scale of the features or consider increasing regularisation. Duality gap: 7.979e+10, tolerance: 1.605e+07\n",
      "  model = cd_fast.enet_coordinate_descent(\n"
     ]
    },
    {
     "name": "stderr",
     "output_type": "stream",
     "text": [
      "C:\\machine_learning\\venv\\lib\\site-packages\\sklearn\\linear_model\\_coordinate_descent.py:631: ConvergenceWarning: Objective did not converge. You might want to increase the number of iterations, check the scale of the features or consider increasing regularisation. Duality gap: 7.192e+10, tolerance: 1.448e+07\n",
      "  model = cd_fast.enet_coordinate_descent(\n",
      "C:\\machine_learning\\venv\\lib\\site-packages\\sklearn\\linear_model\\_coordinate_descent.py:631: ConvergenceWarning: Objective did not converge. You might want to increase the number of iterations, check the scale of the features or consider increasing regularisation. Duality gap: 6.584e+10, tolerance: 1.327e+07\n",
      "  model = cd_fast.enet_coordinate_descent(\n",
      "C:\\machine_learning\\venv\\lib\\site-packages\\sklearn\\linear_model\\_coordinate_descent.py:631: ConvergenceWarning: Objective did not converge. You might want to increase the number of iterations, check the scale of the features or consider increasing regularisation. Duality gap: 6.363e+10, tolerance: 1.280e+07\n",
      "  model = cd_fast.enet_coordinate_descent(\n",
      "C:\\machine_learning\\venv\\lib\\site-packages\\sklearn\\linear_model\\_coordinate_descent.py:631: ConvergenceWarning: Objective did not converge. You might want to increase the number of iterations, check the scale of the features or consider increasing regularisation. Duality gap: 6.938e+10, tolerance: 1.396e+07\n",
      "  model = cd_fast.enet_coordinate_descent(\n",
      "C:\\machine_learning\\venv\\lib\\site-packages\\sklearn\\linear_model\\_coordinate_descent.py:631: ConvergenceWarning: Objective did not converge. You might want to increase the number of iterations, check the scale of the features or consider increasing regularisation. Duality gap: 7.980e+10, tolerance: 1.605e+07\n",
      "  model = cd_fast.enet_coordinate_descent(\n",
      "C:\\machine_learning\\venv\\lib\\site-packages\\sklearn\\linear_model\\_coordinate_descent.py:631: ConvergenceWarning: Objective did not converge. You might want to increase the number of iterations, check the scale of the features or consider increasing regularisation. Duality gap: 7.194e+10, tolerance: 1.448e+07\n",
      "  model = cd_fast.enet_coordinate_descent(\n",
      "C:\\machine_learning\\venv\\lib\\site-packages\\sklearn\\linear_model\\_coordinate_descent.py:631: ConvergenceWarning: Objective did not converge. You might want to increase the number of iterations, check the scale of the features or consider increasing regularisation. Duality gap: 6.586e+10, tolerance: 1.327e+07\n",
      "  model = cd_fast.enet_coordinate_descent(\n",
      "C:\\machine_learning\\venv\\lib\\site-packages\\sklearn\\linear_model\\_coordinate_descent.py:631: ConvergenceWarning: Objective did not converge. You might want to increase the number of iterations, check the scale of the features or consider increasing regularisation. Duality gap: 6.364e+10, tolerance: 1.280e+07\n",
      "  model = cd_fast.enet_coordinate_descent(\n",
      "C:\\machine_learning\\venv\\lib\\site-packages\\sklearn\\linear_model\\_coordinate_descent.py:631: ConvergenceWarning: Objective did not converge. You might want to increase the number of iterations, check the scale of the features or consider increasing regularisation. Duality gap: 6.940e+10, tolerance: 1.396e+07\n",
      "  model = cd_fast.enet_coordinate_descent(\n",
      "C:\\machine_learning\\venv\\lib\\site-packages\\sklearn\\linear_model\\_coordinate_descent.py:631: ConvergenceWarning: Objective did not converge. You might want to increase the number of iterations, check the scale of the features or consider increasing regularisation. Duality gap: 7.981e+10, tolerance: 1.605e+07\n",
      "  model = cd_fast.enet_coordinate_descent(\n",
      "C:\\machine_learning\\venv\\lib\\site-packages\\sklearn\\linear_model\\_coordinate_descent.py:631: ConvergenceWarning: Objective did not converge. You might want to increase the number of iterations, check the scale of the features or consider increasing regularisation. Duality gap: 7.195e+10, tolerance: 1.448e+07\n",
      "  model = cd_fast.enet_coordinate_descent(\n",
      "C:\\machine_learning\\venv\\lib\\site-packages\\sklearn\\linear_model\\_coordinate_descent.py:631: ConvergenceWarning: Objective did not converge. You might want to increase the number of iterations, check the scale of the features or consider increasing regularisation. Duality gap: 6.587e+10, tolerance: 1.327e+07\n",
      "  model = cd_fast.enet_coordinate_descent(\n",
      "C:\\machine_learning\\venv\\lib\\site-packages\\sklearn\\model_selection\\_search.py:909: UserWarning: With alpha=0, this algorithm does not converge well. You are advised to use the LinearRegression estimator\n",
      "  self.best_estimator_.fit(X, y, **fit_params)\n",
      "C:\\machine_learning\\venv\\lib\\site-packages\\sklearn\\linear_model\\_coordinate_descent.py:631: UserWarning: Coordinate descent with no regularization may lead to unexpected results and is discouraged.\n",
      "  model = cd_fast.enet_coordinate_descent(\n",
      "C:\\machine_learning\\venv\\lib\\site-packages\\sklearn\\linear_model\\_coordinate_descent.py:631: ConvergenceWarning: Objective did not converge. You might want to increase the number of iterations, check the scale of the features or consider increasing regularisation. Duality gap: 8.754e+10, tolerance: 1.764e+07 Linear regression models with null weight for the l1 regularization term are more efficiently fitted using one of the solvers implemented in sklearn.linear_model.Ridge/RidgeCV instead.\n",
      "  model = cd_fast.enet_coordinate_descent(\n"
     ]
    },
    {
     "name": "stdout",
     "output_type": "stream",
     "text": [
      "0.0\n"
     ]
    }
   ],
   "source": [
    "lasso_optimal = GridSearchCV(Lasso(), parameters).fit(X_train, y_train)\n",
    "alpl=lasso_optimal.best_params_['alpha']\n",
    "print(alpl)"
   ]
  },
  {
   "cell_type": "code",
   "execution_count": 83,
   "id": "82a28dd1",
   "metadata": {},
   "outputs": [
    {
     "name": "stderr",
     "output_type": "stream",
     "text": [
      "C:\\Users\\DNS\\AppData\\Local\\Temp\\ipykernel_15056\\1307015766.py:2: UserWarning: With alpha=0, this algorithm does not converge well. You are advised to use the LinearRegression estimator\n",
      "  lasso = Lasso(alpha=alpl).fit(X_train, y_train)\n",
      "C:\\machine_learning\\venv\\lib\\site-packages\\sklearn\\linear_model\\_coordinate_descent.py:631: UserWarning: Coordinate descent with no regularization may lead to unexpected results and is discouraged.\n",
      "  model = cd_fast.enet_coordinate_descent(\n"
     ]
    },
    {
     "name": "stdout",
     "output_type": "stream",
     "text": [
      "MAE: 567.7645102689846\n",
      "MSE: 9409316.072021706\n",
      "RMSE: 3067.4608509354616\n",
      "MAPE: 2.243812253229873\n",
      "R^2: 0.005753258044324583\n"
     ]
    },
    {
     "name": "stderr",
     "output_type": "stream",
     "text": [
      "C:\\machine_learning\\venv\\lib\\site-packages\\sklearn\\linear_model\\_coordinate_descent.py:631: ConvergenceWarning: Objective did not converge. You might want to increase the number of iterations, check the scale of the features or consider increasing regularisation. Duality gap: 8.754e+10, tolerance: 1.764e+07 Linear regression models with null weight for the l1 regularization term are more efficiently fitted using one of the solvers implemented in sklearn.linear_model.Ridge/RidgeCV instead.\n",
      "  model = cd_fast.enet_coordinate_descent(\n"
     ]
    },
    {
     "data": {
      "text/plain": [
       "array([-5.65945831e-01, -5.54290691e-04,  5.57842651e-04,  5.97375150e+01,\n",
       "        2.80203737e+03, -6.77813112e-01,  4.55361492e+03, -3.61104783e+03])"
      ]
     },
     "execution_count": 83,
     "metadata": {},
     "output_type": "execute_result"
    }
   ],
   "source": [
    "#L1\n",
    "lasso = Lasso(alpha=alpl).fit(X_train, y_train)\n",
    "y_pred = lasso.predict(X_test)\n",
    "print(f'MAE: {mean_absolute_error(y_test, y_pred)}')\n",
    "print(f'MSE: {mean_squared_error(y_test, y_pred)}')\n",
    "print(f'RMSE: {sqrt(mean_squared_error(y_test, y_pred))}')\n",
    "print(f'MAPE: {mean_absolute_percentage_error(y_test, y_pred)}')\n",
    "print(f'R^2: {lasso.score(X_test, y_test)}')\n",
    "lasso.coef_"
   ]
  },
  {
   "cell_type": "code",
   "execution_count": 84,
   "id": "5e823022",
   "metadata": {},
   "outputs": [
    {
     "name": "stderr",
     "output_type": "stream",
     "text": [
      "C:\\machine_learning\\venv\\lib\\site-packages\\sklearn\\linear_model\\_ridge.py:216: LinAlgWarning: Ill-conditioned matrix (rcond=2.42859e-17): result may not be accurate.\n",
      "  return linalg.solve(A, Xy, assume_a=\"pos\", overwrite_a=True).T\n",
      "C:\\machine_learning\\venv\\lib\\site-packages\\sklearn\\linear_model\\_ridge.py:216: LinAlgWarning: Ill-conditioned matrix (rcond=2.38102e-17): result may not be accurate.\n",
      "  return linalg.solve(A, Xy, assume_a=\"pos\", overwrite_a=True).T\n",
      "C:\\machine_learning\\venv\\lib\\site-packages\\sklearn\\linear_model\\_ridge.py:216: LinAlgWarning: Ill-conditioned matrix (rcond=2.4612e-17): result may not be accurate.\n",
      "  return linalg.solve(A, Xy, assume_a=\"pos\", overwrite_a=True).T\n",
      "C:\\machine_learning\\venv\\lib\\site-packages\\sklearn\\linear_model\\_ridge.py:216: LinAlgWarning: Ill-conditioned matrix (rcond=2.45287e-17): result may not be accurate.\n",
      "  return linalg.solve(A, Xy, assume_a=\"pos\", overwrite_a=True).T\n",
      "C:\\machine_learning\\venv\\lib\\site-packages\\sklearn\\linear_model\\_ridge.py:216: LinAlgWarning: Ill-conditioned matrix (rcond=2.44708e-17): result may not be accurate.\n",
      "  return linalg.solve(A, Xy, assume_a=\"pos\", overwrite_a=True).T\n",
      "C:\\machine_learning\\venv\\lib\\site-packages\\sklearn\\linear_model\\_ridge.py:216: LinAlgWarning: Ill-conditioned matrix (rcond=2.44757e-17): result may not be accurate.\n",
      "  return linalg.solve(A, Xy, assume_a=\"pos\", overwrite_a=True).T\n",
      "C:\\machine_learning\\venv\\lib\\site-packages\\sklearn\\linear_model\\_ridge.py:216: LinAlgWarning: Ill-conditioned matrix (rcond=2.40013e-17): result may not be accurate.\n",
      "  return linalg.solve(A, Xy, assume_a=\"pos\", overwrite_a=True).T\n",
      "C:\\machine_learning\\venv\\lib\\site-packages\\sklearn\\linear_model\\_ridge.py:216: LinAlgWarning: Ill-conditioned matrix (rcond=2.48033e-17): result may not be accurate.\n",
      "  return linalg.solve(A, Xy, assume_a=\"pos\", overwrite_a=True).T\n",
      "C:\\machine_learning\\venv\\lib\\site-packages\\sklearn\\linear_model\\_ridge.py:216: LinAlgWarning: Ill-conditioned matrix (rcond=2.4721e-17): result may not be accurate.\n",
      "  return linalg.solve(A, Xy, assume_a=\"pos\", overwrite_a=True).T\n",
      "C:\\machine_learning\\venv\\lib\\site-packages\\sklearn\\linear_model\\_ridge.py:216: LinAlgWarning: Ill-conditioned matrix (rcond=2.46623e-17): result may not be accurate.\n",
      "  return linalg.solve(A, Xy, assume_a=\"pos\", overwrite_a=True).T\n",
      "C:\\machine_learning\\venv\\lib\\site-packages\\sklearn\\linear_model\\_ridge.py:216: LinAlgWarning: Ill-conditioned matrix (rcond=2.46656e-17): result may not be accurate.\n",
      "  return linalg.solve(A, Xy, assume_a=\"pos\", overwrite_a=True).T\n",
      "C:\\machine_learning\\venv\\lib\\site-packages\\sklearn\\linear_model\\_ridge.py:216: LinAlgWarning: Ill-conditioned matrix (rcond=2.41925e-17): result may not be accurate.\n",
      "  return linalg.solve(A, Xy, assume_a=\"pos\", overwrite_a=True).T\n",
      "C:\\machine_learning\\venv\\lib\\site-packages\\sklearn\\linear_model\\_ridge.py:216: LinAlgWarning: Ill-conditioned matrix (rcond=2.49947e-17): result may not be accurate.\n",
      "  return linalg.solve(A, Xy, assume_a=\"pos\", overwrite_a=True).T\n",
      "C:\\machine_learning\\venv\\lib\\site-packages\\sklearn\\linear_model\\_ridge.py:216: LinAlgWarning: Ill-conditioned matrix (rcond=2.49133e-17): result may not be accurate.\n",
      "  return linalg.solve(A, Xy, assume_a=\"pos\", overwrite_a=True).T\n",
      "C:\\machine_learning\\venv\\lib\\site-packages\\sklearn\\linear_model\\_ridge.py:216: LinAlgWarning: Ill-conditioned matrix (rcond=2.48538e-17): result may not be accurate.\n",
      "  return linalg.solve(A, Xy, assume_a=\"pos\", overwrite_a=True).T\n",
      "C:\\machine_learning\\venv\\lib\\site-packages\\sklearn\\linear_model\\_ridge.py:216: LinAlgWarning: Ill-conditioned matrix (rcond=2.48554e-17): result may not be accurate.\n",
      "  return linalg.solve(A, Xy, assume_a=\"pos\", overwrite_a=True).T\n",
      "C:\\machine_learning\\venv\\lib\\site-packages\\sklearn\\linear_model\\_ridge.py:216: LinAlgWarning: Ill-conditioned matrix (rcond=2.43838e-17): result may not be accurate.\n",
      "  return linalg.solve(A, Xy, assume_a=\"pos\", overwrite_a=True).T\n",
      "C:\\machine_learning\\venv\\lib\\site-packages\\sklearn\\linear_model\\_ridge.py:216: LinAlgWarning: Ill-conditioned matrix (rcond=2.51862e-17): result may not be accurate.\n",
      "  return linalg.solve(A, Xy, assume_a=\"pos\", overwrite_a=True).T\n",
      "C:\\machine_learning\\venv\\lib\\site-packages\\sklearn\\linear_model\\_ridge.py:216: LinAlgWarning: Ill-conditioned matrix (rcond=2.51057e-17): result may not be accurate.\n",
      "  return linalg.solve(A, Xy, assume_a=\"pos\", overwrite_a=True).T\n",
      "C:\\machine_learning\\venv\\lib\\site-packages\\sklearn\\linear_model\\_ridge.py:216: LinAlgWarning: Ill-conditioned matrix (rcond=2.50453e-17): result may not be accurate.\n",
      "  return linalg.solve(A, Xy, assume_a=\"pos\", overwrite_a=True).T\n",
      "C:\\machine_learning\\venv\\lib\\site-packages\\sklearn\\linear_model\\_ridge.py:216: LinAlgWarning: Ill-conditioned matrix (rcond=2.50454e-17): result may not be accurate.\n",
      "  return linalg.solve(A, Xy, assume_a=\"pos\", overwrite_a=True).T\n",
      "C:\\machine_learning\\venv\\lib\\site-packages\\sklearn\\linear_model\\_ridge.py:216: LinAlgWarning: Ill-conditioned matrix (rcond=2.45751e-17): result may not be accurate.\n",
      "  return linalg.solve(A, Xy, assume_a=\"pos\", overwrite_a=True).T\n",
      "C:\\machine_learning\\venv\\lib\\site-packages\\sklearn\\linear_model\\_ridge.py:216: LinAlgWarning: Ill-conditioned matrix (rcond=2.53777e-17): result may not be accurate.\n",
      "  return linalg.solve(A, Xy, assume_a=\"pos\", overwrite_a=True).T\n",
      "C:\\machine_learning\\venv\\lib\\site-packages\\sklearn\\linear_model\\_ridge.py:216: LinAlgWarning: Ill-conditioned matrix (rcond=2.52981e-17): result may not be accurate.\n",
      "  return linalg.solve(A, Xy, assume_a=\"pos\", overwrite_a=True).T\n",
      "C:\\machine_learning\\venv\\lib\\site-packages\\sklearn\\linear_model\\_ridge.py:216: LinAlgWarning: Ill-conditioned matrix (rcond=2.52369e-17): result may not be accurate.\n",
      "  return linalg.solve(A, Xy, assume_a=\"pos\", overwrite_a=True).T\n",
      "C:\\machine_learning\\venv\\lib\\site-packages\\sklearn\\linear_model\\_ridge.py:216: LinAlgWarning: Ill-conditioned matrix (rcond=2.52354e-17): result may not be accurate.\n",
      "  return linalg.solve(A, Xy, assume_a=\"pos\", overwrite_a=True).T\n",
      "C:\\machine_learning\\venv\\lib\\site-packages\\sklearn\\linear_model\\_ridge.py:216: LinAlgWarning: Ill-conditioned matrix (rcond=2.47665e-17): result may not be accurate.\n",
      "  return linalg.solve(A, Xy, assume_a=\"pos\", overwrite_a=True).T\n",
      "C:\\machine_learning\\venv\\lib\\site-packages\\sklearn\\linear_model\\_ridge.py:216: LinAlgWarning: Ill-conditioned matrix (rcond=2.55692e-17): result may not be accurate.\n",
      "  return linalg.solve(A, Xy, assume_a=\"pos\", overwrite_a=True).T\n",
      "C:\\machine_learning\\venv\\lib\\site-packages\\sklearn\\linear_model\\_ridge.py:216: LinAlgWarning: Ill-conditioned matrix (rcond=2.54906e-17): result may not be accurate.\n",
      "  return linalg.solve(A, Xy, assume_a=\"pos\", overwrite_a=True).T\n",
      "C:\\machine_learning\\venv\\lib\\site-packages\\sklearn\\linear_model\\_ridge.py:216: LinAlgWarning: Ill-conditioned matrix (rcond=2.54286e-17): result may not be accurate.\n",
      "  return linalg.solve(A, Xy, assume_a=\"pos\", overwrite_a=True).T\n",
      "C:\\machine_learning\\venv\\lib\\site-packages\\sklearn\\linear_model\\_ridge.py:216: LinAlgWarning: Ill-conditioned matrix (rcond=2.54254e-17): result may not be accurate.\n",
      "  return linalg.solve(A, Xy, assume_a=\"pos\", overwrite_a=True).T\n",
      "C:\\machine_learning\\venv\\lib\\site-packages\\sklearn\\linear_model\\_ridge.py:216: LinAlgWarning: Ill-conditioned matrix (rcond=2.49579e-17): result may not be accurate.\n",
      "  return linalg.solve(A, Xy, assume_a=\"pos\", overwrite_a=True).T\n",
      "C:\\machine_learning\\venv\\lib\\site-packages\\sklearn\\linear_model\\_ridge.py:216: LinAlgWarning: Ill-conditioned matrix (rcond=2.57608e-17): result may not be accurate.\n",
      "  return linalg.solve(A, Xy, assume_a=\"pos\", overwrite_a=True).T\n",
      "C:\\machine_learning\\venv\\lib\\site-packages\\sklearn\\linear_model\\_ridge.py:216: LinAlgWarning: Ill-conditioned matrix (rcond=2.56831e-17): result may not be accurate.\n",
      "  return linalg.solve(A, Xy, assume_a=\"pos\", overwrite_a=True).T\n",
      "C:\\machine_learning\\venv\\lib\\site-packages\\sklearn\\linear_model\\_ridge.py:216: LinAlgWarning: Ill-conditioned matrix (rcond=2.56203e-17): result may not be accurate.\n",
      "  return linalg.solve(A, Xy, assume_a=\"pos\", overwrite_a=True).T\n",
      "C:\\machine_learning\\venv\\lib\\site-packages\\sklearn\\linear_model\\_ridge.py:216: LinAlgWarning: Ill-conditioned matrix (rcond=2.56155e-17): result may not be accurate.\n",
      "  return linalg.solve(A, Xy, assume_a=\"pos\", overwrite_a=True).T\n",
      "C:\\machine_learning\\venv\\lib\\site-packages\\sklearn\\linear_model\\_ridge.py:216: LinAlgWarning: Ill-conditioned matrix (rcond=2.51494e-17): result may not be accurate.\n",
      "  return linalg.solve(A, Xy, assume_a=\"pos\", overwrite_a=True).T\n"
     ]
    },
    {
     "name": "stderr",
     "output_type": "stream",
     "text": [
      "C:\\machine_learning\\venv\\lib\\site-packages\\sklearn\\linear_model\\_ridge.py:216: LinAlgWarning: Ill-conditioned matrix (rcond=2.59525e-17): result may not be accurate.\n",
      "  return linalg.solve(A, Xy, assume_a=\"pos\", overwrite_a=True).T\n",
      "C:\\machine_learning\\venv\\lib\\site-packages\\sklearn\\linear_model\\_ridge.py:216: LinAlgWarning: Ill-conditioned matrix (rcond=2.58757e-17): result may not be accurate.\n",
      "  return linalg.solve(A, Xy, assume_a=\"pos\", overwrite_a=True).T\n",
      "C:\\machine_learning\\venv\\lib\\site-packages\\sklearn\\linear_model\\_ridge.py:216: LinAlgWarning: Ill-conditioned matrix (rcond=2.58121e-17): result may not be accurate.\n",
      "  return linalg.solve(A, Xy, assume_a=\"pos\", overwrite_a=True).T\n",
      "C:\\machine_learning\\venv\\lib\\site-packages\\sklearn\\linear_model\\_ridge.py:216: LinAlgWarning: Ill-conditioned matrix (rcond=2.58056e-17): result may not be accurate.\n",
      "  return linalg.solve(A, Xy, assume_a=\"pos\", overwrite_a=True).T\n",
      "C:\\machine_learning\\venv\\lib\\site-packages\\sklearn\\linear_model\\_ridge.py:216: LinAlgWarning: Ill-conditioned matrix (rcond=2.5341e-17): result may not be accurate.\n",
      "  return linalg.solve(A, Xy, assume_a=\"pos\", overwrite_a=True).T\n",
      "C:\\machine_learning\\venv\\lib\\site-packages\\sklearn\\linear_model\\_ridge.py:216: LinAlgWarning: Ill-conditioned matrix (rcond=2.61442e-17): result may not be accurate.\n",
      "  return linalg.solve(A, Xy, assume_a=\"pos\", overwrite_a=True).T\n",
      "C:\\machine_learning\\venv\\lib\\site-packages\\sklearn\\linear_model\\_ridge.py:216: LinAlgWarning: Ill-conditioned matrix (rcond=2.60684e-17): result may not be accurate.\n",
      "  return linalg.solve(A, Xy, assume_a=\"pos\", overwrite_a=True).T\n",
      "C:\\machine_learning\\venv\\lib\\site-packages\\sklearn\\linear_model\\_ridge.py:216: LinAlgWarning: Ill-conditioned matrix (rcond=2.60039e-17): result may not be accurate.\n",
      "  return linalg.solve(A, Xy, assume_a=\"pos\", overwrite_a=True).T\n",
      "C:\\machine_learning\\venv\\lib\\site-packages\\sklearn\\linear_model\\_ridge.py:216: LinAlgWarning: Ill-conditioned matrix (rcond=2.59958e-17): result may not be accurate.\n",
      "  return linalg.solve(A, Xy, assume_a=\"pos\", overwrite_a=True).T\n",
      "C:\\machine_learning\\venv\\lib\\site-packages\\sklearn\\linear_model\\_ridge.py:216: LinAlgWarning: Ill-conditioned matrix (rcond=2.55326e-17): result may not be accurate.\n",
      "  return linalg.solve(A, Xy, assume_a=\"pos\", overwrite_a=True).T\n",
      "C:\\machine_learning\\venv\\lib\\site-packages\\sklearn\\linear_model\\_ridge.py:216: LinAlgWarning: Ill-conditioned matrix (rcond=2.63359e-17): result may not be accurate.\n",
      "  return linalg.solve(A, Xy, assume_a=\"pos\", overwrite_a=True).T\n",
      "C:\\machine_learning\\venv\\lib\\site-packages\\sklearn\\linear_model\\_ridge.py:216: LinAlgWarning: Ill-conditioned matrix (rcond=2.62611e-17): result may not be accurate.\n",
      "  return linalg.solve(A, Xy, assume_a=\"pos\", overwrite_a=True).T\n"
     ]
    },
    {
     "name": "stdout",
     "output_type": "stream",
     "text": [
      "0.0\n"
     ]
    },
    {
     "name": "stderr",
     "output_type": "stream",
     "text": [
      "C:\\machine_learning\\venv\\lib\\site-packages\\sklearn\\linear_model\\_ridge.py:216: LinAlgWarning: Ill-conditioned matrix (rcond=2.61957e-17): result may not be accurate.\n",
      "  return linalg.solve(A, Xy, assume_a=\"pos\", overwrite_a=True).T\n",
      "C:\\machine_learning\\venv\\lib\\site-packages\\sklearn\\linear_model\\_ridge.py:216: LinAlgWarning: Ill-conditioned matrix (rcond=2.43467e-17): result may not be accurate.\n",
      "  return linalg.solve(A, Xy, assume_a=\"pos\", overwrite_a=True).T\n"
     ]
    }
   ],
   "source": [
    "ridge_optimal = GridSearchCV(Ridge(), parameters).fit(X_train, y_train)\n",
    "alpr=ridge_optimal.best_params_['alpha']\n",
    "print(alpr)"
   ]
  },
  {
   "cell_type": "code",
   "execution_count": 85,
   "id": "66c464e7",
   "metadata": {},
   "outputs": [
    {
     "name": "stderr",
     "output_type": "stream",
     "text": [
      "C:\\machine_learning\\venv\\lib\\site-packages\\sklearn\\linear_model\\_ridge.py:216: LinAlgWarning: Ill-conditioned matrix (rcond=2.43467e-17): result may not be accurate.\n",
      "  return linalg.solve(A, Xy, assume_a=\"pos\", overwrite_a=True).T\n"
     ]
    },
    {
     "name": "stdout",
     "output_type": "stream",
     "text": [
      "MAE: 1.0494042052856534e-06\n",
      "MSE: 3.113564889034071e-11\n",
      "RMSE: 5.579932695861188e-06\n",
      "MAPE: 4.154167671302484e-09\n",
      "R^2: 1.0\n"
     ]
    },
    {
     "data": {
      "text/plain": [
       "array([-1.02952108e-09, -9.99999998e-01,  9.99999998e-01,  1.08640236e-07,\n",
       "        5.09532924e-06, -1.23123755e-09,  8.28220898e-06, -6.56767466e-06])"
      ]
     },
     "execution_count": 85,
     "metadata": {},
     "output_type": "execute_result"
    }
   ],
   "source": [
    "#L2\n",
    "ridge = Ridge(alpha=alpr).fit(X_train, y_train)\n",
    "y_pred = ridge.predict(X_test)\n",
    "print(f'MAE: {mean_absolute_error(y_test, y_pred)}')\n",
    "print(f'MSE: {mean_squared_error(y_test, y_pred)}')\n",
    "print(f'RMSE: {sqrt(mean_squared_error(y_test, y_pred))}')\n",
    "print(f'MAPE: {mean_absolute_percentage_error(y_test, y_pred)}')\n",
    "print(f'R^2: {ridge.score(X_test, y_test)}')\n",
    "ridge.coef_"
   ]
  },
  {
   "cell_type": "code",
   "execution_count": 86,
   "id": "5f8187d4",
   "metadata": {},
   "outputs": [
    {
     "data": {
      "text/plain": [
       "array([[ 1.00000000e+00,  1.00000000e+00,  1.45870076e+09, ...,\n",
       "         5.47294269e+03, -3.01487087e+03,  1.66079693e+03],\n",
       "       [ 1.00000000e+00,  2.00000000e+00,  1.45809172e+09, ...,\n",
       "         5.46208981e+03, -3.01192299e+03,  1.66084419e+03],\n",
       "       [ 1.00000000e+00,  2.00000000e+00,  1.45967494e+09, ...,\n",
       "         5.47199564e+03, -3.01497488e+03,  1.66119897e+03],\n",
       "       ...,\n",
       "       [ 1.00000000e+00,  1.00000000e+00,  1.45624162e+09, ...,\n",
       "         5.47467107e+03, -3.01478323e+03,  1.66017608e+03],\n",
       "       [ 1.00000000e+00,  2.00000000e+00,  1.45863162e+09, ...,\n",
       "         5.47420028e+03, -3.01434286e+03,  1.65983384e+03],\n",
       "       [ 1.00000000e+00,  1.00000000e+00,  1.45308639e+09, ...,\n",
       "         5.45597705e+03, -3.01147244e+03,  1.66220756e+03]])"
      ]
     },
     "execution_count": 86,
     "metadata": {},
     "output_type": "execute_result"
    }
   ],
   "source": [
    "#Poli\n",
    "from sklearn.preprocessing import PolynomialFeatures\n",
    "#y = y.values.reshape(-1,1)\n",
    "#X = X.values.reshape(-1,1)\n",
    "p = PolynomialFeatures(2)\n",
    "X_p=p.fit_transform(X_train) \n",
    "X_p\n"
   ]
  },
  {
   "cell_type": "code",
   "execution_count": 89,
   "id": "13edbf1f",
   "metadata": {},
   "outputs": [
    {
     "name": "stdout",
     "output_type": "stream",
     "text": [
      "MAE: 0.25342350832674104\n",
      "MSE: 0.6169304255252123\n",
      "RMSE: 0.785449187105832\n",
      "MAPE: 0.002082598586399572\n",
      "R^2: 0.9999999348113018\n"
     ]
    },
    {
     "data": {
      "text/plain": [
       "array([ 2.20085833e-06, -2.04104278e-04, -1.03105921e-04,  1.05395473e-04,\n",
       "       -2.67498464e-08,  7.42986776e-10, -5.32529817e-06, -5.28131657e-10,\n",
       "       -6.72970413e-10,  1.81352961e-05, -6.20258073e-07,  6.20285388e-07,\n",
       "       -7.18022881e-05,  1.48914798e-03,  4.99833063e-03,  1.47392797e-03,\n",
       "       -7.52022843e-04,  1.32578691e-09, -2.67153823e-09,  1.46666427e-05,\n",
       "        3.61096773e-03, -1.79567475e-06,  8.66240627e-03, -1.54047649e-03,\n",
       "        1.34575100e-09, -1.46666150e-05, -3.61096125e-03,  1.79653514e-06,\n",
       "       -8.66239628e-03,  1.54047190e-03, -2.09480756e-04,  2.30397114e-06,\n",
       "       -7.05121323e-04,  2.45406504e-06, -1.22596281e-06, -1.55674423e-06,\n",
       "        3.74071076e-04, -1.09005461e-07,  7.71602941e-08, -3.08525520e-03,\n",
       "        3.80981692e-04, -2.04823399e-04,  1.51580187e-08, -8.13251576e-08,\n",
       "       -1.71357193e-07])"
      ]
     },
     "execution_count": 89,
     "metadata": {},
     "output_type": "execute_result"
    }
   ],
   "source": [
    "lr2 = LinearRegression().fit(X_p, y_train)\n",
    "X_p_test=p.fit_transform(X_test)\n",
    "y_pred = lr2.predict(X_p_test)\n",
    "print(f'MAE: {mean_absolute_error(y_test, y_pred)}')\n",
    "print(f'MSE: {mean_squared_error(y_test, y_pred)}')\n",
    "print(f'RMSE: {sqrt(mean_squared_error(y_test, y_pred))}')\n",
    "print(f'MAPE: {mean_absolute_percentage_error(y_test, y_pred)}')\n",
    "print(f'R^2: {lr2.score(X_p_test, y_test)}')\n",
    "lr2.coef_"
   ]
  },
  {
   "cell_type": "code",
   "execution_count": 90,
   "id": "81fb852e",
   "metadata": {},
   "outputs": [
    {
     "name": "stderr",
     "output_type": "stream",
     "text": [
      "C:\\machine_learning\\venv\\lib\\site-packages\\sklearn\\model_selection\\_validation.py:686: UserWarning: With alpha=0, this algorithm does not converge well. You are advised to use the LinearRegression estimator\n",
      "  estimator.fit(X_train, y_train, **fit_params)\n",
      "C:\\machine_learning\\venv\\lib\\site-packages\\sklearn\\linear_model\\_coordinate_descent.py:631: UserWarning: Coordinate descent with no regularization may lead to unexpected results and is discouraged.\n",
      "  model = cd_fast.enet_coordinate_descent(\n",
      "C:\\machine_learning\\venv\\lib\\site-packages\\sklearn\\linear_model\\_coordinate_descent.py:631: ConvergenceWarning: Objective did not converge. You might want to increase the number of iterations, check the scale of the features or consider increasing regularisation. Duality gap: 6.339e+10, tolerance: 1.280e+07 Linear regression models with null weight for the l1 regularization term are more efficiently fitted using one of the solvers implemented in sklearn.linear_model.Ridge/RidgeCV instead.\n",
      "  model = cd_fast.enet_coordinate_descent(\n",
      "C:\\machine_learning\\venv\\lib\\site-packages\\sklearn\\model_selection\\_validation.py:686: UserWarning: With alpha=0, this algorithm does not converge well. You are advised to use the LinearRegression estimator\n",
      "  estimator.fit(X_train, y_train, **fit_params)\n",
      "C:\\machine_learning\\venv\\lib\\site-packages\\sklearn\\linear_model\\_coordinate_descent.py:631: UserWarning: Coordinate descent with no regularization may lead to unexpected results and is discouraged.\n",
      "  model = cd_fast.enet_coordinate_descent(\n",
      "C:\\machine_learning\\venv\\lib\\site-packages\\sklearn\\linear_model\\_coordinate_descent.py:631: ConvergenceWarning: Objective did not converge. You might want to increase the number of iterations, check the scale of the features or consider increasing regularisation. Duality gap: 6.912e+10, tolerance: 1.396e+07 Linear regression models with null weight for the l1 regularization term are more efficiently fitted using one of the solvers implemented in sklearn.linear_model.Ridge/RidgeCV instead.\n",
      "  model = cd_fast.enet_coordinate_descent(\n",
      "C:\\machine_learning\\venv\\lib\\site-packages\\sklearn\\model_selection\\_validation.py:686: UserWarning: With alpha=0, this algorithm does not converge well. You are advised to use the LinearRegression estimator\n",
      "  estimator.fit(X_train, y_train, **fit_params)\n",
      "C:\\machine_learning\\venv\\lib\\site-packages\\sklearn\\linear_model\\_coordinate_descent.py:631: UserWarning: Coordinate descent with no regularization may lead to unexpected results and is discouraged.\n",
      "  model = cd_fast.enet_coordinate_descent(\n",
      "C:\\machine_learning\\venv\\lib\\site-packages\\sklearn\\linear_model\\_coordinate_descent.py:631: ConvergenceWarning: Objective did not converge. You might want to increase the number of iterations, check the scale of the features or consider increasing regularisation. Duality gap: 7.949e+10, tolerance: 1.605e+07 Linear regression models with null weight for the l1 regularization term are more efficiently fitted using one of the solvers implemented in sklearn.linear_model.Ridge/RidgeCV instead.\n",
      "  model = cd_fast.enet_coordinate_descent(\n",
      "C:\\machine_learning\\venv\\lib\\site-packages\\sklearn\\model_selection\\_validation.py:686: UserWarning: With alpha=0, this algorithm does not converge well. You are advised to use the LinearRegression estimator\n",
      "  estimator.fit(X_train, y_train, **fit_params)\n",
      "C:\\machine_learning\\venv\\lib\\site-packages\\sklearn\\linear_model\\_coordinate_descent.py:631: UserWarning: Coordinate descent with no regularization may lead to unexpected results and is discouraged.\n",
      "  model = cd_fast.enet_coordinate_descent(\n",
      "C:\\machine_learning\\venv\\lib\\site-packages\\sklearn\\linear_model\\_coordinate_descent.py:631: ConvergenceWarning: Objective did not converge. You might want to increase the number of iterations, check the scale of the features or consider increasing regularisation. Duality gap: 7.166e+10, tolerance: 1.448e+07 Linear regression models with null weight for the l1 regularization term are more efficiently fitted using one of the solvers implemented in sklearn.linear_model.Ridge/RidgeCV instead.\n",
      "  model = cd_fast.enet_coordinate_descent(\n",
      "C:\\machine_learning\\venv\\lib\\site-packages\\sklearn\\model_selection\\_validation.py:686: UserWarning: With alpha=0, this algorithm does not converge well. You are advised to use the LinearRegression estimator\n",
      "  estimator.fit(X_train, y_train, **fit_params)\n",
      "C:\\machine_learning\\venv\\lib\\site-packages\\sklearn\\linear_model\\_coordinate_descent.py:631: UserWarning: Coordinate descent with no regularization may lead to unexpected results and is discouraged.\n",
      "  model = cd_fast.enet_coordinate_descent(\n",
      "C:\\machine_learning\\venv\\lib\\site-packages\\sklearn\\linear_model\\_coordinate_descent.py:631: ConvergenceWarning: Objective did not converge. You might want to increase the number of iterations, check the scale of the features or consider increasing regularisation. Duality gap: 6.560e+10, tolerance: 1.327e+07 Linear regression models with null weight for the l1 regularization term are more efficiently fitted using one of the solvers implemented in sklearn.linear_model.Ridge/RidgeCV instead.\n",
      "  model = cd_fast.enet_coordinate_descent(\n",
      "C:\\machine_learning\\venv\\lib\\site-packages\\sklearn\\linear_model\\_coordinate_descent.py:631: ConvergenceWarning: Objective did not converge. You might want to increase the number of iterations, check the scale of the features or consider increasing regularisation. Duality gap: 6.339e+10, tolerance: 1.280e+07\n",
      "  model = cd_fast.enet_coordinate_descent(\n",
      "C:\\machine_learning\\venv\\lib\\site-packages\\sklearn\\linear_model\\_coordinate_descent.py:631: ConvergenceWarning: Objective did not converge. You might want to increase the number of iterations, check the scale of the features or consider increasing regularisation. Duality gap: 6.912e+10, tolerance: 1.396e+07\n",
      "  model = cd_fast.enet_coordinate_descent(\n",
      "C:\\machine_learning\\venv\\lib\\site-packages\\sklearn\\linear_model\\_coordinate_descent.py:631: ConvergenceWarning: Objective did not converge. You might want to increase the number of iterations, check the scale of the features or consider increasing regularisation. Duality gap: 7.949e+10, tolerance: 1.605e+07\n",
      "  model = cd_fast.enet_coordinate_descent(\n",
      "C:\\machine_learning\\venv\\lib\\site-packages\\sklearn\\linear_model\\_coordinate_descent.py:631: ConvergenceWarning: Objective did not converge. You might want to increase the number of iterations, check the scale of the features or consider increasing regularisation. Duality gap: 7.166e+10, tolerance: 1.448e+07\n",
      "  model = cd_fast.enet_coordinate_descent(\n",
      "C:\\machine_learning\\venv\\lib\\site-packages\\sklearn\\linear_model\\_coordinate_descent.py:631: ConvergenceWarning: Objective did not converge. You might want to increase the number of iterations, check the scale of the features or consider increasing regularisation. Duality gap: 6.561e+10, tolerance: 1.327e+07\n",
      "  model = cd_fast.enet_coordinate_descent(\n",
      "C:\\machine_learning\\venv\\lib\\site-packages\\sklearn\\linear_model\\_coordinate_descent.py:631: ConvergenceWarning: Objective did not converge. You might want to increase the number of iterations, check the scale of the features or consider increasing regularisation. Duality gap: 6.339e+10, tolerance: 1.280e+07\n",
      "  model = cd_fast.enet_coordinate_descent(\n",
      "C:\\machine_learning\\venv\\lib\\site-packages\\sklearn\\linear_model\\_coordinate_descent.py:631: ConvergenceWarning: Objective did not converge. You might want to increase the number of iterations, check the scale of the features or consider increasing regularisation. Duality gap: 6.912e+10, tolerance: 1.396e+07\n",
      "  model = cd_fast.enet_coordinate_descent(\n",
      "C:\\machine_learning\\venv\\lib\\site-packages\\sklearn\\linear_model\\_coordinate_descent.py:631: ConvergenceWarning: Objective did not converge. You might want to increase the number of iterations, check the scale of the features or consider increasing regularisation. Duality gap: 7.949e+10, tolerance: 1.605e+07\n",
      "  model = cd_fast.enet_coordinate_descent(\n",
      "C:\\machine_learning\\venv\\lib\\site-packages\\sklearn\\linear_model\\_coordinate_descent.py:631: ConvergenceWarning: Objective did not converge. You might want to increase the number of iterations, check the scale of the features or consider increasing regularisation. Duality gap: 7.166e+10, tolerance: 1.448e+07\n",
      "  model = cd_fast.enet_coordinate_descent(\n"
     ]
    },
    {
     "name": "stderr",
     "output_type": "stream",
     "text": [
      "C:\\machine_learning\\venv\\lib\\site-packages\\sklearn\\linear_model\\_coordinate_descent.py:631: ConvergenceWarning: Objective did not converge. You might want to increase the number of iterations, check the scale of the features or consider increasing regularisation. Duality gap: 6.561e+10, tolerance: 1.327e+07\n",
      "  model = cd_fast.enet_coordinate_descent(\n",
      "C:\\machine_learning\\venv\\lib\\site-packages\\sklearn\\linear_model\\_coordinate_descent.py:631: ConvergenceWarning: Objective did not converge. You might want to increase the number of iterations, check the scale of the features or consider increasing regularisation. Duality gap: 6.339e+10, tolerance: 1.280e+07\n",
      "  model = cd_fast.enet_coordinate_descent(\n",
      "C:\\machine_learning\\venv\\lib\\site-packages\\sklearn\\linear_model\\_coordinate_descent.py:631: ConvergenceWarning: Objective did not converge. You might want to increase the number of iterations, check the scale of the features or consider increasing regularisation. Duality gap: 6.912e+10, tolerance: 1.396e+07\n",
      "  model = cd_fast.enet_coordinate_descent(\n",
      "C:\\machine_learning\\venv\\lib\\site-packages\\sklearn\\linear_model\\_coordinate_descent.py:631: ConvergenceWarning: Objective did not converge. You might want to increase the number of iterations, check the scale of the features or consider increasing regularisation. Duality gap: 7.949e+10, tolerance: 1.605e+07\n",
      "  model = cd_fast.enet_coordinate_descent(\n",
      "C:\\machine_learning\\venv\\lib\\site-packages\\sklearn\\linear_model\\_coordinate_descent.py:631: ConvergenceWarning: Objective did not converge. You might want to increase the number of iterations, check the scale of the features or consider increasing regularisation. Duality gap: 7.166e+10, tolerance: 1.448e+07\n",
      "  model = cd_fast.enet_coordinate_descent(\n",
      "C:\\machine_learning\\venv\\lib\\site-packages\\sklearn\\linear_model\\_coordinate_descent.py:631: ConvergenceWarning: Objective did not converge. You might want to increase the number of iterations, check the scale of the features or consider increasing regularisation. Duality gap: 6.561e+10, tolerance: 1.327e+07\n",
      "  model = cd_fast.enet_coordinate_descent(\n",
      "C:\\machine_learning\\venv\\lib\\site-packages\\sklearn\\linear_model\\_coordinate_descent.py:631: ConvergenceWarning: Objective did not converge. You might want to increase the number of iterations, check the scale of the features or consider increasing regularisation. Duality gap: 6.339e+10, tolerance: 1.280e+07\n",
      "  model = cd_fast.enet_coordinate_descent(\n",
      "C:\\machine_learning\\venv\\lib\\site-packages\\sklearn\\linear_model\\_coordinate_descent.py:631: ConvergenceWarning: Objective did not converge. You might want to increase the number of iterations, check the scale of the features or consider increasing regularisation. Duality gap: 6.912e+10, tolerance: 1.396e+07\n",
      "  model = cd_fast.enet_coordinate_descent(\n",
      "C:\\machine_learning\\venv\\lib\\site-packages\\sklearn\\linear_model\\_coordinate_descent.py:631: ConvergenceWarning: Objective did not converge. You might want to increase the number of iterations, check the scale of the features or consider increasing regularisation. Duality gap: 7.950e+10, tolerance: 1.605e+07\n",
      "  model = cd_fast.enet_coordinate_descent(\n",
      "C:\\machine_learning\\venv\\lib\\site-packages\\sklearn\\linear_model\\_coordinate_descent.py:631: ConvergenceWarning: Objective did not converge. You might want to increase the number of iterations, check the scale of the features or consider increasing regularisation. Duality gap: 7.166e+10, tolerance: 1.448e+07\n",
      "  model = cd_fast.enet_coordinate_descent(\n",
      "C:\\machine_learning\\venv\\lib\\site-packages\\sklearn\\linear_model\\_coordinate_descent.py:631: ConvergenceWarning: Objective did not converge. You might want to increase the number of iterations, check the scale of the features or consider increasing regularisation. Duality gap: 6.561e+10, tolerance: 1.327e+07\n",
      "  model = cd_fast.enet_coordinate_descent(\n",
      "C:\\machine_learning\\venv\\lib\\site-packages\\sklearn\\linear_model\\_coordinate_descent.py:631: ConvergenceWarning: Objective did not converge. You might want to increase the number of iterations, check the scale of the features or consider increasing regularisation. Duality gap: 6.340e+10, tolerance: 1.280e+07\n",
      "  model = cd_fast.enet_coordinate_descent(\n",
      "C:\\machine_learning\\venv\\lib\\site-packages\\sklearn\\linear_model\\_coordinate_descent.py:631: ConvergenceWarning: Objective did not converge. You might want to increase the number of iterations, check the scale of the features or consider increasing regularisation. Duality gap: 6.912e+10, tolerance: 1.396e+07\n",
      "  model = cd_fast.enet_coordinate_descent(\n",
      "C:\\machine_learning\\venv\\lib\\site-packages\\sklearn\\linear_model\\_coordinate_descent.py:631: ConvergenceWarning: Objective did not converge. You might want to increase the number of iterations, check the scale of the features or consider increasing regularisation. Duality gap: 7.950e+10, tolerance: 1.605e+07\n",
      "  model = cd_fast.enet_coordinate_descent(\n",
      "C:\\machine_learning\\venv\\lib\\site-packages\\sklearn\\linear_model\\_coordinate_descent.py:631: ConvergenceWarning: Objective did not converge. You might want to increase the number of iterations, check the scale of the features or consider increasing regularisation. Duality gap: 7.166e+10, tolerance: 1.448e+07\n",
      "  model = cd_fast.enet_coordinate_descent(\n",
      "C:\\machine_learning\\venv\\lib\\site-packages\\sklearn\\linear_model\\_coordinate_descent.py:631: ConvergenceWarning: Objective did not converge. You might want to increase the number of iterations, check the scale of the features or consider increasing regularisation. Duality gap: 6.561e+10, tolerance: 1.327e+07\n",
      "  model = cd_fast.enet_coordinate_descent(\n",
      "C:\\machine_learning\\venv\\lib\\site-packages\\sklearn\\linear_model\\_coordinate_descent.py:631: ConvergenceWarning: Objective did not converge. You might want to increase the number of iterations, check the scale of the features or consider increasing regularisation. Duality gap: 6.340e+10, tolerance: 1.280e+07\n",
      "  model = cd_fast.enet_coordinate_descent(\n",
      "C:\\machine_learning\\venv\\lib\\site-packages\\sklearn\\linear_model\\_coordinate_descent.py:631: ConvergenceWarning: Objective did not converge. You might want to increase the number of iterations, check the scale of the features or consider increasing regularisation. Duality gap: 6.912e+10, tolerance: 1.396e+07\n",
      "  model = cd_fast.enet_coordinate_descent(\n",
      "C:\\machine_learning\\venv\\lib\\site-packages\\sklearn\\linear_model\\_coordinate_descent.py:631: ConvergenceWarning: Objective did not converge. You might want to increase the number of iterations, check the scale of the features or consider increasing regularisation. Duality gap: 7.950e+10, tolerance: 1.605e+07\n",
      "  model = cd_fast.enet_coordinate_descent(\n",
      "C:\\machine_learning\\venv\\lib\\site-packages\\sklearn\\linear_model\\_coordinate_descent.py:631: ConvergenceWarning: Objective did not converge. You might want to increase the number of iterations, check the scale of the features or consider increasing regularisation. Duality gap: 7.166e+10, tolerance: 1.448e+07\n",
      "  model = cd_fast.enet_coordinate_descent(\n",
      "C:\\machine_learning\\venv\\lib\\site-packages\\sklearn\\linear_model\\_coordinate_descent.py:631: ConvergenceWarning: Objective did not converge. You might want to increase the number of iterations, check the scale of the features or consider increasing regularisation. Duality gap: 6.561e+10, tolerance: 1.327e+07\n",
      "  model = cd_fast.enet_coordinate_descent(\n",
      "C:\\machine_learning\\venv\\lib\\site-packages\\sklearn\\linear_model\\_coordinate_descent.py:631: ConvergenceWarning: Objective did not converge. You might want to increase the number of iterations, check the scale of the features or consider increasing regularisation. Duality gap: 6.340e+10, tolerance: 1.280e+07\n",
      "  model = cd_fast.enet_coordinate_descent(\n",
      "C:\\machine_learning\\venv\\lib\\site-packages\\sklearn\\linear_model\\_coordinate_descent.py:631: ConvergenceWarning: Objective did not converge. You might want to increase the number of iterations, check the scale of the features or consider increasing regularisation. Duality gap: 6.912e+10, tolerance: 1.396e+07\n",
      "  model = cd_fast.enet_coordinate_descent(\n",
      "C:\\machine_learning\\venv\\lib\\site-packages\\sklearn\\linear_model\\_coordinate_descent.py:631: ConvergenceWarning: Objective did not converge. You might want to increase the number of iterations, check the scale of the features or consider increasing regularisation. Duality gap: 7.950e+10, tolerance: 1.605e+07\n",
      "  model = cd_fast.enet_coordinate_descent(\n"
     ]
    },
    {
     "name": "stderr",
     "output_type": "stream",
     "text": [
      "C:\\machine_learning\\venv\\lib\\site-packages\\sklearn\\linear_model\\_coordinate_descent.py:631: ConvergenceWarning: Objective did not converge. You might want to increase the number of iterations, check the scale of the features or consider increasing regularisation. Duality gap: 7.166e+10, tolerance: 1.448e+07\n",
      "  model = cd_fast.enet_coordinate_descent(\n",
      "C:\\machine_learning\\venv\\lib\\site-packages\\sklearn\\linear_model\\_coordinate_descent.py:631: ConvergenceWarning: Objective did not converge. You might want to increase the number of iterations, check the scale of the features or consider increasing regularisation. Duality gap: 6.561e+10, tolerance: 1.327e+07\n",
      "  model = cd_fast.enet_coordinate_descent(\n",
      "C:\\machine_learning\\venv\\lib\\site-packages\\sklearn\\linear_model\\_coordinate_descent.py:631: ConvergenceWarning: Objective did not converge. You might want to increase the number of iterations, check the scale of the features or consider increasing regularisation. Duality gap: 6.340e+10, tolerance: 1.280e+07\n",
      "  model = cd_fast.enet_coordinate_descent(\n",
      "C:\\machine_learning\\venv\\lib\\site-packages\\sklearn\\linear_model\\_coordinate_descent.py:631: ConvergenceWarning: Objective did not converge. You might want to increase the number of iterations, check the scale of the features or consider increasing regularisation. Duality gap: 6.912e+10, tolerance: 1.396e+07\n",
      "  model = cd_fast.enet_coordinate_descent(\n",
      "C:\\machine_learning\\venv\\lib\\site-packages\\sklearn\\linear_model\\_coordinate_descent.py:631: ConvergenceWarning: Objective did not converge. You might want to increase the number of iterations, check the scale of the features or consider increasing regularisation. Duality gap: 7.950e+10, tolerance: 1.605e+07\n",
      "  model = cd_fast.enet_coordinate_descent(\n",
      "C:\\machine_learning\\venv\\lib\\site-packages\\sklearn\\linear_model\\_coordinate_descent.py:631: ConvergenceWarning: Objective did not converge. You might want to increase the number of iterations, check the scale of the features or consider increasing regularisation. Duality gap: 7.166e+10, tolerance: 1.448e+07\n",
      "  model = cd_fast.enet_coordinate_descent(\n",
      "C:\\machine_learning\\venv\\lib\\site-packages\\sklearn\\linear_model\\_coordinate_descent.py:631: ConvergenceWarning: Objective did not converge. You might want to increase the number of iterations, check the scale of the features or consider increasing regularisation. Duality gap: 6.561e+10, tolerance: 1.327e+07\n",
      "  model = cd_fast.enet_coordinate_descent(\n",
      "C:\\machine_learning\\venv\\lib\\site-packages\\sklearn\\linear_model\\_coordinate_descent.py:631: ConvergenceWarning: Objective did not converge. You might want to increase the number of iterations, check the scale of the features or consider increasing regularisation. Duality gap: 6.340e+10, tolerance: 1.280e+07\n",
      "  model = cd_fast.enet_coordinate_descent(\n",
      "C:\\machine_learning\\venv\\lib\\site-packages\\sklearn\\linear_model\\_coordinate_descent.py:631: ConvergenceWarning: Objective did not converge. You might want to increase the number of iterations, check the scale of the features or consider increasing regularisation. Duality gap: 6.912e+10, tolerance: 1.396e+07\n",
      "  model = cd_fast.enet_coordinate_descent(\n",
      "C:\\machine_learning\\venv\\lib\\site-packages\\sklearn\\linear_model\\_coordinate_descent.py:631: ConvergenceWarning: Objective did not converge. You might want to increase the number of iterations, check the scale of the features or consider increasing regularisation. Duality gap: 7.950e+10, tolerance: 1.605e+07\n",
      "  model = cd_fast.enet_coordinate_descent(\n",
      "C:\\machine_learning\\venv\\lib\\site-packages\\sklearn\\linear_model\\_coordinate_descent.py:631: ConvergenceWarning: Objective did not converge. You might want to increase the number of iterations, check the scale of the features or consider increasing regularisation. Duality gap: 7.166e+10, tolerance: 1.448e+07\n",
      "  model = cd_fast.enet_coordinate_descent(\n",
      "C:\\machine_learning\\venv\\lib\\site-packages\\sklearn\\linear_model\\_coordinate_descent.py:631: ConvergenceWarning: Objective did not converge. You might want to increase the number of iterations, check the scale of the features or consider increasing regularisation. Duality gap: 6.561e+10, tolerance: 1.327e+07\n",
      "  model = cd_fast.enet_coordinate_descent(\n",
      "C:\\machine_learning\\venv\\lib\\site-packages\\sklearn\\model_selection\\_search.py:909: UserWarning: With alpha=0, this algorithm does not converge well. You are advised to use the LinearRegression estimator\n",
      "  self.best_estimator_.fit(X, y, **fit_params)\n",
      "C:\\machine_learning\\venv\\lib\\site-packages\\sklearn\\linear_model\\_coordinate_descent.py:631: UserWarning: Coordinate descent with no regularization may lead to unexpected results and is discouraged.\n",
      "  model = cd_fast.enet_coordinate_descent(\n"
     ]
    },
    {
     "name": "stdout",
     "output_type": "stream",
     "text": [
      "0.0\n"
     ]
    },
    {
     "name": "stderr",
     "output_type": "stream",
     "text": [
      "C:\\machine_learning\\venv\\lib\\site-packages\\sklearn\\linear_model\\_coordinate_descent.py:631: ConvergenceWarning: Objective did not converge. You might want to increase the number of iterations, check the scale of the features or consider increasing regularisation. Duality gap: 8.734e+10, tolerance: 1.764e+07 Linear regression models with null weight for the l1 regularization term are more efficiently fitted using one of the solvers implemented in sklearn.linear_model.Ridge/RidgeCV instead.\n",
      "  model = cd_fast.enet_coordinate_descent(\n"
     ]
    }
   ],
   "source": [
    "#Poli1\n",
    "parameters = {'alpha': np.arange(0, 1, 0.1)}\n",
    "lasso_p_optimal = GridSearchCV(Lasso(), parameters).fit(X_p, y_train)\n",
    "alpl_p=lasso_p_optimal.best_params_['alpha']\n",
    "print(alpl_p)\n"
   ]
  },
  {
   "cell_type": "code",
   "execution_count": 91,
   "id": "0aaaa62d",
   "metadata": {},
   "outputs": [
    {
     "name": "stderr",
     "output_type": "stream",
     "text": [
      "C:\\Users\\DNS\\AppData\\Local\\Temp\\ipykernel_15056\\2865582534.py:1: UserWarning: With alpha=0, this algorithm does not converge well. You are advised to use the LinearRegression estimator\n",
      "  lasso_p = Lasso(alpha = alpl_p).fit(X_p, y_train)\n",
      "C:\\machine_learning\\venv\\lib\\site-packages\\sklearn\\linear_model\\_coordinate_descent.py:631: UserWarning: Coordinate descent with no regularization may lead to unexpected results and is discouraged.\n",
      "  model = cd_fast.enet_coordinate_descent(\n"
     ]
    },
    {
     "name": "stdout",
     "output_type": "stream",
     "text": [
      "MAE: 567.9221808396056\n",
      "MSE: 9389297.565439297\n",
      "RMSE: 3064.1960716375993\n",
      "MAPE: 2.2238680809370126\n",
      "R^2: 0.007868537709289858\n"
     ]
    },
    {
     "name": "stderr",
     "output_type": "stream",
     "text": [
      "C:\\machine_learning\\venv\\lib\\site-packages\\sklearn\\linear_model\\_coordinate_descent.py:631: ConvergenceWarning: Objective did not converge. You might want to increase the number of iterations, check the scale of the features or consider increasing regularisation. Duality gap: 8.734e+10, tolerance: 1.764e+07 Linear regression models with null weight for the l1 regularization term are more efficiently fitted using one of the solvers implemented in sklearn.linear_model.Ridge/RidgeCV instead.\n",
      "  model = cd_fast.enet_coordinate_descent(\n"
     ]
    },
    {
     "data": {
      "text/plain": [
       "array([ 0.00000000e+00, -8.27082167e-01, -5.52236612e-04,  5.57440841e-04,\n",
       "        6.95419036e+01,  7.05098640e+03,  3.39758500e-01,  4.72722577e+03,\n",
       "       -8.50131148e+03, -3.00319790e-01,  7.15855077e-08,  3.04791563e-11,\n",
       "       -4.24178829e-01, -1.25238247e-02, -4.17440305e-02, -2.25836472e-02,\n",
       "        7.38278790e-03, -1.92623418e-13,  9.54307315e-14,  1.18787583e-07,\n",
       "        3.66810325e-06,  3.36692039e-10, -7.53510440e-09, -1.35370900e-07,\n",
       "        1.89995704e-13, -1.75331399e-09, -9.28648210e-08, -5.06970732e-11,\n",
       "       -1.60582237e-08, -1.14406269e-07, -1.78732732e+01,  6.98983333e-01,\n",
       "       -1.09948728e-01,  4.54619208e-01,  2.06371782e-01,  1.57855755e+02,\n",
       "        8.67719278e-03, -1.66898224e+02,  3.76023932e+01,  2.12264889e-02,\n",
       "        1.07893787e-01, -1.94841980e-02,  7.87024816e+01, -2.14424820e+01,\n",
       "        7.93589425e+01])"
      ]
     },
     "execution_count": 91,
     "metadata": {},
     "output_type": "execute_result"
    }
   ],
   "source": [
    "lasso_p = Lasso(alpha = alpl_p).fit(X_p, y_train)\n",
    "y_pred = lasso_p.predict(X_p_test)\n",
    "\n",
    "print(f'MAE: {mean_absolute_error(y_test, y_pred)}')\n",
    "print(f'MSE: {mean_squared_error(y_test, y_pred)}')\n",
    "print(f'RMSE: {sqrt(mean_squared_error(y_test, y_pred))}')\n",
    "print(f'MAPE: {mean_absolute_percentage_error(y_test, y_pred)}')\n",
    "print(f'R^2: {lasso_p.score(X_p_test, y_test)}')\n",
    "lasso_p.coef_"
   ]
  },
  {
   "cell_type": "code",
   "execution_count": 92,
   "id": "6b602e18",
   "metadata": {},
   "outputs": [
    {
     "name": "stderr",
     "output_type": "stream",
     "text": [
      "C:\\machine_learning\\venv\\lib\\site-packages\\sklearn\\linear_model\\_ridge.py:216: LinAlgWarning: Ill-conditioned matrix (rcond=1.5403e-38): result may not be accurate.\n",
      "  return linalg.solve(A, Xy, assume_a=\"pos\", overwrite_a=True).T\n",
      "C:\\machine_learning\\venv\\lib\\site-packages\\sklearn\\linear_model\\_ridge.py:216: LinAlgWarning: Ill-conditioned matrix (rcond=1.53699e-38): result may not be accurate.\n",
      "  return linalg.solve(A, Xy, assume_a=\"pos\", overwrite_a=True).T\n",
      "C:\\machine_learning\\venv\\lib\\site-packages\\sklearn\\linear_model\\_ridge.py:216: LinAlgWarning: Ill-conditioned matrix (rcond=1.55111e-38): result may not be accurate.\n",
      "  return linalg.solve(A, Xy, assume_a=\"pos\", overwrite_a=True).T\n",
      "C:\\machine_learning\\venv\\lib\\site-packages\\sklearn\\linear_model\\_ridge.py:216: LinAlgWarning: Ill-conditioned matrix (rcond=3.08245e-38): result may not be accurate.\n",
      "  return linalg.solve(A, Xy, assume_a=\"pos\", overwrite_a=True).T\n",
      "C:\\machine_learning\\venv\\lib\\site-packages\\sklearn\\linear_model\\_ridge.py:216: LinAlgWarning: Ill-conditioned matrix (rcond=3.05741e-38): result may not be accurate.\n",
      "  return linalg.solve(A, Xy, assume_a=\"pos\", overwrite_a=True).T\n",
      "C:\\machine_learning\\venv\\lib\\site-packages\\sklearn\\linear_model\\_ridge.py:216: LinAlgWarning: Ill-conditioned matrix (rcond=3.10303e-38): result may not be accurate.\n",
      "  return linalg.solve(A, Xy, assume_a=\"pos\", overwrite_a=True).T\n",
      "C:\\machine_learning\\venv\\lib\\site-packages\\sklearn\\linear_model\\_ridge.py:216: LinAlgWarning: Ill-conditioned matrix (rcond=3.06919e-38): result may not be accurate.\n",
      "  return linalg.solve(A, Xy, assume_a=\"pos\", overwrite_a=True).T\n",
      "C:\\machine_learning\\venv\\lib\\site-packages\\sklearn\\linear_model\\_ridge.py:216: LinAlgWarning: Ill-conditioned matrix (rcond=4.30758e-38): result may not be accurate.\n",
      "  return linalg.solve(A, Xy, assume_a=\"pos\", overwrite_a=True).T\n",
      "C:\\machine_learning\\venv\\lib\\site-packages\\sklearn\\linear_model\\_ridge.py:216: LinAlgWarning: Ill-conditioned matrix (rcond=4.21852e-38): result may not be accurate.\n",
      "  return linalg.solve(A, Xy, assume_a=\"pos\", overwrite_a=True).T\n",
      "C:\\machine_learning\\venv\\lib\\site-packages\\sklearn\\linear_model\\_ridge.py:216: LinAlgWarning: Ill-conditioned matrix (rcond=4.31501e-38): result may not be accurate.\n",
      "  return linalg.solve(A, Xy, assume_a=\"pos\", overwrite_a=True).T\n",
      "C:\\machine_learning\\venv\\lib\\site-packages\\sklearn\\linear_model\\_ridge.py:216: LinAlgWarning: Ill-conditioned matrix (rcond=4.25925e-38): result may not be accurate.\n",
      "  return linalg.solve(A, Xy, assume_a=\"pos\", overwrite_a=True).T\n",
      "C:\\machine_learning\\venv\\lib\\site-packages\\sklearn\\linear_model\\_ridge.py:216: LinAlgWarning: Ill-conditioned matrix (rcond=5.53163e-38): result may not be accurate.\n",
      "  return linalg.solve(A, Xy, assume_a=\"pos\", overwrite_a=True).T\n",
      "C:\\machine_learning\\venv\\lib\\site-packages\\sklearn\\linear_model\\_ridge.py:216: LinAlgWarning: Ill-conditioned matrix (rcond=5.39849e-38): result may not be accurate.\n",
      "  return linalg.solve(A, Xy, assume_a=\"pos\", overwrite_a=True).T\n",
      "C:\\machine_learning\\venv\\lib\\site-packages\\sklearn\\linear_model\\_ridge.py:216: LinAlgWarning: Ill-conditioned matrix (rcond=5.49872e-38): result may not be accurate.\n",
      "  return linalg.solve(A, Xy, assume_a=\"pos\", overwrite_a=True).T\n",
      "C:\\machine_learning\\venv\\lib\\site-packages\\sklearn\\linear_model\\_ridge.py:216: LinAlgWarning: Ill-conditioned matrix (rcond=5.43388e-38): result may not be accurate.\n",
      "  return linalg.solve(A, Xy, assume_a=\"pos\", overwrite_a=True).T\n",
      "C:\\machine_learning\\venv\\lib\\site-packages\\sklearn\\linear_model\\_ridge.py:216: LinAlgWarning: Ill-conditioned matrix (rcond=6.73699e-38): result may not be accurate.\n",
      "  return linalg.solve(A, Xy, assume_a=\"pos\", overwrite_a=True).T\n",
      "C:\\machine_learning\\venv\\lib\\site-packages\\sklearn\\linear_model\\_ridge.py:216: LinAlgWarning: Ill-conditioned matrix (rcond=6.59726e-38): result may not be accurate.\n",
      "  return linalg.solve(A, Xy, assume_a=\"pos\", overwrite_a=True).T\n",
      "C:\\machine_learning\\venv\\lib\\site-packages\\sklearn\\linear_model\\_ridge.py:216: LinAlgWarning: Ill-conditioned matrix (rcond=6.70107e-38): result may not be accurate.\n",
      "  return linalg.solve(A, Xy, assume_a=\"pos\", overwrite_a=True).T\n",
      "C:\\machine_learning\\venv\\lib\\site-packages\\sklearn\\linear_model\\_ridge.py:216: LinAlgWarning: Ill-conditioned matrix (rcond=6.61827e-38): result may not be accurate.\n",
      "  return linalg.solve(A, Xy, assume_a=\"pos\", overwrite_a=True).T\n",
      "C:\\machine_learning\\venv\\lib\\site-packages\\sklearn\\linear_model\\_ridge.py:216: LinAlgWarning: Ill-conditioned matrix (rcond=7.95998e-38): result may not be accurate.\n",
      "  return linalg.solve(A, Xy, assume_a=\"pos\", overwrite_a=True).T\n",
      "C:\\machine_learning\\venv\\lib\\site-packages\\sklearn\\linear_model\\_ridge.py:216: LinAlgWarning: Ill-conditioned matrix (rcond=7.81385e-38): result may not be accurate.\n",
      "  return linalg.solve(A, Xy, assume_a=\"pos\", overwrite_a=True).T\n",
      "C:\\machine_learning\\venv\\lib\\site-packages\\sklearn\\linear_model\\_ridge.py:216: LinAlgWarning: Ill-conditioned matrix (rcond=7.92133e-38): result may not be accurate.\n",
      "  return linalg.solve(A, Xy, assume_a=\"pos\", overwrite_a=True).T\n",
      "C:\\machine_learning\\venv\\lib\\site-packages\\sklearn\\linear_model\\_ridge.py:216: LinAlgWarning: Ill-conditioned matrix (rcond=7.83964e-38): result may not be accurate.\n",
      "  return linalg.solve(A, Xy, assume_a=\"pos\", overwrite_a=True).T\n",
      "C:\\machine_learning\\venv\\lib\\site-packages\\sklearn\\linear_model\\_ridge.py:216: LinAlgWarning: Ill-conditioned matrix (rcond=9.08942e-38): result may not be accurate.\n",
      "  return linalg.solve(A, Xy, assume_a=\"pos\", overwrite_a=True).T\n",
      "C:\\machine_learning\\venv\\lib\\site-packages\\sklearn\\linear_model\\_ridge.py:216: LinAlgWarning: Ill-conditioned matrix (rcond=9.20058e-38): result may not be accurate.\n",
      "  return linalg.solve(A, Xy, assume_a=\"pos\", overwrite_a=True).T\n",
      "C:\\machine_learning\\venv\\lib\\site-packages\\sklearn\\linear_model\\_ridge.py:216: LinAlgWarning: Ill-conditioned matrix (rcond=9.0469e-38): result may not be accurate.\n",
      "  return linalg.solve(A, Xy, assume_a=\"pos\", overwrite_a=True).T\n",
      "C:\\machine_learning\\venv\\lib\\site-packages\\sklearn\\linear_model\\_ridge.py:216: LinAlgWarning: Ill-conditioned matrix (rcond=9.15851e-38): result may not be accurate.\n",
      "  return linalg.solve(A, Xy, assume_a=\"pos\", overwrite_a=True).T\n",
      "C:\\machine_learning\\venv\\lib\\site-packages\\sklearn\\linear_model\\_ridge.py:216: LinAlgWarning: Ill-conditioned matrix (rcond=9.07269e-38): result may not be accurate.\n",
      "  return linalg.solve(A, Xy, assume_a=\"pos\", overwrite_a=True).T\n",
      "C:\\machine_learning\\venv\\lib\\site-packages\\sklearn\\linear_model\\_ridge.py:216: LinAlgWarning: Ill-conditioned matrix (rcond=1.04575e-37): result may not be accurate.\n",
      "  return linalg.solve(A, Xy, assume_a=\"pos\", overwrite_a=True).T\n",
      "C:\\machine_learning\\venv\\lib\\site-packages\\sklearn\\linear_model\\_ridge.py:216: LinAlgWarning: Ill-conditioned matrix (rcond=1.02958e-37): result may not be accurate.\n",
      "  return linalg.solve(A, Xy, assume_a=\"pos\", overwrite_a=True).T\n",
      "C:\\machine_learning\\venv\\lib\\site-packages\\sklearn\\linear_model\\_ridge.py:216: LinAlgWarning: Ill-conditioned matrix (rcond=1.04115e-37): result may not be accurate.\n",
      "  return linalg.solve(A, Xy, assume_a=\"pos\", overwrite_a=True).T\n",
      "C:\\machine_learning\\venv\\lib\\site-packages\\sklearn\\linear_model\\_ridge.py:216: LinAlgWarning: Ill-conditioned matrix (rcond=1.03185e-37): result may not be accurate.\n",
      "  return linalg.solve(A, Xy, assume_a=\"pos\", overwrite_a=True).T\n",
      "C:\\machine_learning\\venv\\lib\\site-packages\\sklearn\\linear_model\\_ridge.py:216: LinAlgWarning: Ill-conditioned matrix (rcond=1.173e-37): result may not be accurate.\n",
      "  return linalg.solve(A, Xy, assume_a=\"pos\", overwrite_a=True).T\n",
      "C:\\machine_learning\\venv\\lib\\site-packages\\sklearn\\linear_model\\_ridge.py:216: LinAlgWarning: Ill-conditioned matrix (rcond=1.15583e-37): result may not be accurate.\n",
      "  return linalg.solve(A, Xy, assume_a=\"pos\", overwrite_a=True).T\n",
      "C:\\machine_learning\\venv\\lib\\site-packages\\sklearn\\linear_model\\_ridge.py:216: LinAlgWarning: Ill-conditioned matrix (rcond=1.16791e-37): result may not be accurate.\n",
      "  return linalg.solve(A, Xy, assume_a=\"pos\", overwrite_a=True).T\n",
      "C:\\machine_learning\\venv\\lib\\site-packages\\sklearn\\linear_model\\_ridge.py:216: LinAlgWarning: Ill-conditioned matrix (rcond=1.15795e-37): result may not be accurate.\n",
      "  return linalg.solve(A, Xy, assume_a=\"pos\", overwrite_a=True).T\n"
     ]
    },
    {
     "name": "stdout",
     "output_type": "stream",
     "text": [
      "0.7000000000000001\n"
     ]
    }
   ],
   "source": [
    "#Poli2\n",
    "ridge_p_optimal = GridSearchCV(Ridge(), parameters).fit(X_p, y_train)\n",
    "alpr_p=ridge_p_optimal.best_params_['alpha']\n",
    "print(alpr_p)"
   ]
  },
  {
   "cell_type": "code",
   "execution_count": 93,
   "id": "d79d9f04",
   "metadata": {},
   "outputs": [
    {
     "name": "stdout",
     "output_type": "stream",
     "text": [
      "MAE: 0.6046773854304948\n",
      "MSE: 0.9614461631476595\n",
      "RMSE: 0.9805336114318873\n",
      "MAPE: 0.0025024675292102754\n",
      "R^2: 0.9999998984076305\n"
     ]
    },
    {
     "data": {
      "text/plain": [
       "array([-3.59200567e-04, -1.78649681e-01, -3.14474182e-01,  3.14474345e-01,\n",
       "       -9.58103929e-04,  2.07354961e-06, -2.46267021e-03, -1.79110093e-06,\n",
       "       -6.02590027e-07, -1.63017724e-04, -1.54090339e-06,  1.54083376e-06,\n",
       "        3.21764340e-04, -1.30101953e-02, -1.06644241e-02,  1.83605626e-02,\n",
       "        2.86291541e-02,  2.65988501e-09, -5.33426168e-09,  1.02608415e-05,\n",
       "        2.19555508e-03,  1.06318729e-05,  6.36550458e-03, -7.69797148e-04,\n",
       "        2.67437657e-09, -1.02506224e-05, -2.19555490e-03, -1.06276649e-05,\n",
       "       -6.36550022e-03,  7.69803441e-04, -4.07883392e-01,  7.37015256e-02,\n",
       "        1.51940471e-03,  7.30714374e-02, -3.99121758e-02, -3.08490127e-03,\n",
       "        1.08196335e-01,  1.60378386e-04,  1.05215299e-04,  4.80162640e-02,\n",
       "        1.16587829e-01, -2.00136940e-01,  3.75190617e-04, -1.18554710e-04,\n",
       "       -1.64510832e-04])"
      ]
     },
     "execution_count": 93,
     "metadata": {},
     "output_type": "execute_result"
    }
   ],
   "source": [
    "ridge_p = Ridge(alpha = alpr_p).fit(X_p, y_train)\n",
    "y_pred = ridge_p.predict(X_p_test)\n",
    "\n",
    "print(f'MAE: {mean_absolute_error(y_test, y_pred)}')\n",
    "print(f'MSE: {mean_squared_error(y_test, y_pred)}')\n",
    "print(f'RMSE: {sqrt(mean_squared_error(y_test, y_pred))}')\n",
    "print(f'MAPE: {mean_absolute_percentage_error(y_test, y_pred)}')\n",
    "print(f'R^2: {ridge_p.score(X_p_test, y_test)}')\n",
    "ridge_p.coef_"
   ]
  },
  {
   "cell_type": "code",
   "execution_count": 94,
   "id": "e6332b2d",
   "metadata": {},
   "outputs": [
    {
     "name": "stderr",
     "output_type": "stream",
     "text": [
      "C:\\Users\\DNS\\AppData\\Local\\Temp\\ipykernel_15056\\1419376383.py:1: UserWarning: With alpha=0, this algorithm does not converge well. You are advised to use the LinearRegression estimator\n",
      "  lasso = Lasso(alpha=alpl).fit(X_train, y_train)\n",
      "C:\\machine_learning\\venv\\lib\\site-packages\\sklearn\\linear_model\\_coordinate_descent.py:631: UserWarning: Coordinate descent with no regularization may lead to unexpected results and is discouraged.\n",
      "  model = cd_fast.enet_coordinate_descent(\n"
     ]
    },
    {
     "name": "stdout",
     "output_type": "stream",
     "text": [
      "MAE: 567.7645102689846\n",
      "MSE: 9409316.072021706\n",
      "RMSE: 3067.4608509354616\n",
      "MAPE: 2.243812253229873\n",
      "R^2: 0.005753258044324583\n"
     ]
    },
    {
     "name": "stderr",
     "output_type": "stream",
     "text": [
      "C:\\machine_learning\\venv\\lib\\site-packages\\sklearn\\linear_model\\_coordinate_descent.py:631: ConvergenceWarning: Objective did not converge. You might want to increase the number of iterations, check the scale of the features or consider increasing regularisation. Duality gap: 8.754e+10, tolerance: 1.764e+07 Linear regression models with null weight for the l1 regularization term are more efficiently fitted using one of the solvers implemented in sklearn.linear_model.Ridge/RidgeCV instead.\n",
      "  model = cd_fast.enet_coordinate_descent(\n"
     ]
    },
    {
     "data": {
      "text/plain": [
       "array([-5.65945831e-01, -5.54290691e-04,  5.57842651e-04,  5.97375150e+01,\n",
       "        2.80203737e+03, -6.77813112e-01,  4.55361492e+03, -3.61104783e+03])"
      ]
     },
     "execution_count": 94,
     "metadata": {},
     "output_type": "execute_result"
    }
   ],
   "source": [
    "lasso = Lasso(alpha=alpl).fit(X_train, y_train)\n",
    "y_pred = lasso.predict(X_test)\n",
    "print(f'MAE: {mean_absolute_error(y_test, y_pred)}')\n",
    "print(f'MSE: {mean_squared_error(y_test, y_pred)}')\n",
    "print(f'RMSE: {sqrt(mean_squared_error(y_test, y_pred))}')\n",
    "print(f'MAPE: {mean_absolute_percentage_error(y_test, y_pred)}')\n",
    "print(f'R^2: {lasso.score(X_test, y_test)}')\n",
    "lasso.coef_"
   ]
  },
  {
   "cell_type": "code",
   "execution_count": 95,
   "id": "b171abb4",
   "metadata": {},
   "outputs": [],
   "source": [
    "class MyRidge:\n",
    "    def __init__( self, learning_rate=0.0001, iterations=1000, alpha=0.5 ) :\n",
    "        self.learning_rate = learning_rate        \n",
    "        self.iterations = iterations        \n",
    "        self.alpha = alpha\n",
    "\n",
    "    def transform_(self, x):\n",
    "        return np.concatenate((np.ones((len(x), 1)), x), axis = 1)\n",
    "\n",
    "    def loss_func(self, x, y, w):\n",
    "        return sum(y - np.dot(x, w)) ** 2  + self.alpha * (np.matmul(w, w))/x.shape[0]\n",
    "\n",
    "    def fit(self, x, y):\n",
    "        dist = np.inf\n",
    "        eps = 1e-20\n",
    "        X = self.transform_(x)\n",
    "\n",
    "        w = np.zeros(X.shape[1])\n",
    "        iter = 0\n",
    "\n",
    "        while iter <= self.iterations:\n",
    "            loss = self.loss_func(X, y, w)\n",
    "            w = w - ((self.learning_rate * 2 * np.dot(X.T, np.dot(X, w) - y)) + ( 2 * self.alpha * w ))/X.shape[0]\n",
    "            dist = np.abs(loss - self.loss_func(X, y, w))\n",
    "            iter += 1\n",
    "            \n",
    "            if(dist <= eps):\n",
    "                break\n",
    "        self.w = w\n",
    "        return self\n",
    "        \n",
    "\n",
    "    def predict(self, x):\n",
    "        return np.dot(self.transform_(x), self.w)"
   ]
  },
  {
   "cell_type": "code",
   "execution_count": 96,
   "id": "f9089943",
   "metadata": {},
   "outputs": [],
   "source": [
    "def R2(y_test, y_pred):\n",
    "    numerator = ((y_test - y_pred) ** 2).sum()\n",
    "    denominator = (\n",
    "        (y_test - np.average(y_test, axis=0)) ** 2\n",
    "        ).sum()\n",
    "    return 1 - (numerator / denominator)\n",
    "    \n",
    "def MAPE(y_test, y_pred):\n",
    "    return np.mean(np.abs((y_test - y_pred)/y_test))\n",
    "    \n",
    "def RMSE(y_test, y_pred):\n",
    "    return np.sqrt(MSE(y_test, y_pred))\n",
    "    \n",
    "def MSE(y_test, y_pred):\n",
    "    return np.mean((y_test - y_pred)**2)\n",
    "    \n",
    "def MAE(y_test, y_pred):\n",
    "    return np.mean(np.abs((y_test - y_pred)))"
   ]
  },
  {
   "cell_type": "code",
   "execution_count": 97,
   "id": "b3fb6731",
   "metadata": {},
   "outputs": [
    {
     "ename": "OverflowError",
     "evalue": "(34, 'Result too large')",
     "output_type": "error",
     "traceback": [
      "\u001b[1;31m---------------------------------------------------------------------------\u001b[0m",
      "\u001b[1;31mOverflowError\u001b[0m                             Traceback (most recent call last)",
      "Cell \u001b[1;32mIn[97], line 2\u001b[0m\n\u001b[0;32m      1\u001b[0m ridge \u001b[38;5;241m=\u001b[39m MyRidge()\n\u001b[1;32m----> 2\u001b[0m \u001b[43mridge\u001b[49m\u001b[38;5;241;43m.\u001b[39;49m\u001b[43mfit\u001b[49m\u001b[43m(\u001b[49m\u001b[43mX_train\u001b[49m\u001b[43m,\u001b[49m\u001b[43m \u001b[49m\u001b[43my_train\u001b[49m\u001b[43m)\u001b[49m\n\u001b[0;32m      3\u001b[0m y_pred \u001b[38;5;241m=\u001b[39m ridge\u001b[38;5;241m.\u001b[39mpredict(X_test)\n\u001b[0;32m      4\u001b[0m \u001b[38;5;28mprint\u001b[39m(\u001b[38;5;124mf\u001b[39m\u001b[38;5;124m'\u001b[39m\u001b[38;5;124mMAE: \u001b[39m\u001b[38;5;132;01m{\u001b[39;00mMAE(y_test,\u001b[38;5;250m \u001b[39my_pred)\u001b[38;5;132;01m}\u001b[39;00m\u001b[38;5;124m'\u001b[39m)\n",
      "Cell \u001b[1;32mIn[95], line 24\u001b[0m, in \u001b[0;36mMyRidge.fit\u001b[1;34m(self, x, y)\u001b[0m\n\u001b[0;32m     22\u001b[0m loss \u001b[38;5;241m=\u001b[39m \u001b[38;5;28mself\u001b[39m\u001b[38;5;241m.\u001b[39mloss_func(X, y, w)\n\u001b[0;32m     23\u001b[0m w \u001b[38;5;241m=\u001b[39m w \u001b[38;5;241m-\u001b[39m ((\u001b[38;5;28mself\u001b[39m\u001b[38;5;241m.\u001b[39mlearning_rate \u001b[38;5;241m*\u001b[39m \u001b[38;5;241m2\u001b[39m \u001b[38;5;241m*\u001b[39m np\u001b[38;5;241m.\u001b[39mdot(X\u001b[38;5;241m.\u001b[39mT, np\u001b[38;5;241m.\u001b[39mdot(X, w) \u001b[38;5;241m-\u001b[39m y)) \u001b[38;5;241m+\u001b[39m ( \u001b[38;5;241m2\u001b[39m \u001b[38;5;241m*\u001b[39m \u001b[38;5;28mself\u001b[39m\u001b[38;5;241m.\u001b[39malpha \u001b[38;5;241m*\u001b[39m w ))\u001b[38;5;241m/\u001b[39mX\u001b[38;5;241m.\u001b[39mshape[\u001b[38;5;241m0\u001b[39m]\n\u001b[1;32m---> 24\u001b[0m dist \u001b[38;5;241m=\u001b[39m np\u001b[38;5;241m.\u001b[39mabs(loss \u001b[38;5;241m-\u001b[39m \u001b[38;5;28;43mself\u001b[39;49m\u001b[38;5;241;43m.\u001b[39;49m\u001b[43mloss_func\u001b[49m\u001b[43m(\u001b[49m\u001b[43mX\u001b[49m\u001b[43m,\u001b[49m\u001b[43m \u001b[49m\u001b[43my\u001b[49m\u001b[43m,\u001b[49m\u001b[43m \u001b[49m\u001b[43mw\u001b[49m\u001b[43m)\u001b[49m)\n\u001b[0;32m     25\u001b[0m \u001b[38;5;28miter\u001b[39m \u001b[38;5;241m+\u001b[39m\u001b[38;5;241m=\u001b[39m \u001b[38;5;241m1\u001b[39m\n\u001b[0;32m     27\u001b[0m \u001b[38;5;28;01mif\u001b[39;00m(dist \u001b[38;5;241m<\u001b[39m\u001b[38;5;241m=\u001b[39m eps):\n",
      "Cell \u001b[1;32mIn[95], line 11\u001b[0m, in \u001b[0;36mMyRidge.loss_func\u001b[1;34m(self, x, y, w)\u001b[0m\n\u001b[0;32m     10\u001b[0m \u001b[38;5;28;01mdef\u001b[39;00m \u001b[38;5;21mloss_func\u001b[39m(\u001b[38;5;28mself\u001b[39m, x, y, w):\n\u001b[1;32m---> 11\u001b[0m     \u001b[38;5;28;01mreturn\u001b[39;00m \u001b[38;5;28;43msum\u001b[39;49m\u001b[43m(\u001b[49m\u001b[43my\u001b[49m\u001b[43m \u001b[49m\u001b[38;5;241;43m-\u001b[39;49m\u001b[43m \u001b[49m\u001b[43mnp\u001b[49m\u001b[38;5;241;43m.\u001b[39;49m\u001b[43mdot\u001b[49m\u001b[43m(\u001b[49m\u001b[43mx\u001b[49m\u001b[43m,\u001b[49m\u001b[43m \u001b[49m\u001b[43mw\u001b[49m\u001b[43m)\u001b[49m\u001b[43m)\u001b[49m\u001b[43m \u001b[49m\u001b[38;5;241;43m*\u001b[39;49m\u001b[38;5;241;43m*\u001b[39;49m\u001b[43m \u001b[49m\u001b[38;5;241;43m2\u001b[39;49m  \u001b[38;5;241m+\u001b[39m \u001b[38;5;28mself\u001b[39m\u001b[38;5;241m.\u001b[39malpha \u001b[38;5;241m*\u001b[39m (np\u001b[38;5;241m.\u001b[39mmatmul(w, w))\u001b[38;5;241m/\u001b[39mx\u001b[38;5;241m.\u001b[39mshape[\u001b[38;5;241m0\u001b[39m]\n",
      "\u001b[1;31mOverflowError\u001b[0m: (34, 'Result too large')"
     ]
    }
   ],
   "source": [
    "ridge = MyRidge()\n",
    "ridge.fit(X_train, y_train)\n",
    "y_pred = ridge.predict(X_test)\n",
    "print(f'MAE: {MAE(y_test, y_pred)}')\n",
    "print(f'MSE: {MSE(y_test, y_pred)}')\n",
    "print(f'RMSE: {RMSE(y_test, y_pred)}')\n",
    "print(f'MAPE: {MAPE(y_test, y_pred)}')\n",
    "print(f'R^2: {R2(y_test, y_pred)}')\n"
   ]
  },
  {
   "cell_type": "code",
   "execution_count": null,
   "id": "e9e48e97",
   "metadata": {},
   "outputs": [],
   "source": []
  },
  {
   "cell_type": "code",
   "execution_count": null,
   "id": "d4ec76b7",
   "metadata": {},
   "outputs": [],
   "source": []
  },
  {
   "cell_type": "code",
   "execution_count": null,
   "id": "5ed41c60",
   "metadata": {},
   "outputs": [],
   "source": []
  },
  {
   "cell_type": "code",
   "execution_count": 21,
   "id": "3d4df30b",
   "metadata": {},
   "outputs": [],
   "source": [
    "data = data.dropna()"
   ]
  },
  {
   "cell_type": "code",
   "execution_count": 6,
   "id": "8ee20721",
   "metadata": {},
   "outputs": [
    {
     "data": {
      "text/html": [
       "<div>\n",
       "<style scoped>\n",
       "    .dataframe tbody tr th:only-of-type {\n",
       "        vertical-align: middle;\n",
       "    }\n",
       "\n",
       "    .dataframe tbody tr th {\n",
       "        vertical-align: top;\n",
       "    }\n",
       "\n",
       "    .dataframe thead th {\n",
       "        text-align: right;\n",
       "    }\n",
       "</style>\n",
       "<table border=\"1\" class=\"dataframe\">\n",
       "  <thead>\n",
       "    <tr style=\"text-align: right;\">\n",
       "      <th></th>\n",
       "      <th>vendor_id</th>\n",
       "      <th>pickup_datetime</th>\n",
       "      <th>dropoff_datetime</th>\n",
       "      <th>passenger_count</th>\n",
       "      <th>pickup_longitude</th>\n",
       "      <th>pickup_latitude</th>\n",
       "      <th>dropoff_longitude</th>\n",
       "      <th>dropoff_latitude</th>\n",
       "      <th>trip_duration</th>\n",
       "    </tr>\n",
       "  </thead>\n",
       "  <tbody>\n",
       "    <tr>\n",
       "      <th>0</th>\n",
       "      <td>2.0</td>\n",
       "      <td>1.456742e+09</td>\n",
       "      <td>1.456743e+09</td>\n",
       "      <td>1</td>\n",
       "      <td>-73.953918</td>\n",
       "      <td>40.778873</td>\n",
       "      <td>-73.963875</td>\n",
       "      <td>40.771164</td>\n",
       "      <td>400</td>\n",
       "    </tr>\n",
       "    <tr>\n",
       "      <th>1</th>\n",
       "      <td>1.0</td>\n",
       "      <td>1.457718e+09</td>\n",
       "      <td>1.457719e+09</td>\n",
       "      <td>2</td>\n",
       "      <td>-73.988312</td>\n",
       "      <td>40.731743</td>\n",
       "      <td>-73.994751</td>\n",
       "      <td>40.694931</td>\n",
       "      <td>1100</td>\n",
       "    </tr>\n",
       "    <tr>\n",
       "      <th>2</th>\n",
       "      <td>2.0</td>\n",
       "      <td>1.456056e+09</td>\n",
       "      <td>1.456058e+09</td>\n",
       "      <td>2</td>\n",
       "      <td>-73.997314</td>\n",
       "      <td>40.721458</td>\n",
       "      <td>-73.948029</td>\n",
       "      <td>40.774918</td>\n",
       "      <td>1635</td>\n",
       "    </tr>\n",
       "    <tr>\n",
       "      <th>3</th>\n",
       "      <td>2.0</td>\n",
       "      <td>1.451965e+09</td>\n",
       "      <td>1.451967e+09</td>\n",
       "      <td>6</td>\n",
       "      <td>-73.961670</td>\n",
       "      <td>40.759720</td>\n",
       "      <td>-73.956779</td>\n",
       "      <td>40.780628</td>\n",
       "      <td>1141</td>\n",
       "    </tr>\n",
       "    <tr>\n",
       "      <th>4</th>\n",
       "      <td>1.0</td>\n",
       "      <td>1.455670e+09</td>\n",
       "      <td>1.455671e+09</td>\n",
       "      <td>1</td>\n",
       "      <td>-74.017120</td>\n",
       "      <td>40.708469</td>\n",
       "      <td>-73.988182</td>\n",
       "      <td>40.740631</td>\n",
       "      <td>848</td>\n",
       "    </tr>\n",
       "    <tr>\n",
       "      <th>...</th>\n",
       "      <td>...</td>\n",
       "      <td>...</td>\n",
       "      <td>...</td>\n",
       "      <td>...</td>\n",
       "      <td>...</td>\n",
       "      <td>...</td>\n",
       "      <td>...</td>\n",
       "      <td>...</td>\n",
       "      <td>...</td>\n",
       "    </tr>\n",
       "    <tr>\n",
       "      <th>729317</th>\n",
       "      <td>2.0</td>\n",
       "      <td>1.463816e+09</td>\n",
       "      <td>1.463816e+09</td>\n",
       "      <td>2</td>\n",
       "      <td>-73.965919</td>\n",
       "      <td>40.789780</td>\n",
       "      <td>-73.952637</td>\n",
       "      <td>40.789181</td>\n",
       "      <td>296</td>\n",
       "    </tr>\n",
       "    <tr>\n",
       "      <th>729318</th>\n",
       "      <td>1.0</td>\n",
       "      <td>1.456080e+09</td>\n",
       "      <td>1.456081e+09</td>\n",
       "      <td>1</td>\n",
       "      <td>-73.996666</td>\n",
       "      <td>40.737434</td>\n",
       "      <td>-74.001320</td>\n",
       "      <td>40.731911</td>\n",
       "      <td>315</td>\n",
       "    </tr>\n",
       "    <tr>\n",
       "      <th>729319</th>\n",
       "      <td>1.0</td>\n",
       "      <td>1.460725e+09</td>\n",
       "      <td>1.460726e+09</td>\n",
       "      <td>1</td>\n",
       "      <td>-73.997849</td>\n",
       "      <td>40.761696</td>\n",
       "      <td>-74.001488</td>\n",
       "      <td>40.741207</td>\n",
       "      <td>673</td>\n",
       "    </tr>\n",
       "    <tr>\n",
       "      <th>729320</th>\n",
       "      <td>1.0</td>\n",
       "      <td>1.466308e+09</td>\n",
       "      <td>1.466309e+09</td>\n",
       "      <td>1</td>\n",
       "      <td>-74.006706</td>\n",
       "      <td>40.708244</td>\n",
       "      <td>-74.013550</td>\n",
       "      <td>40.713814</td>\n",
       "      <td>447</td>\n",
       "    </tr>\n",
       "    <tr>\n",
       "      <th>729321</th>\n",
       "      <td>2.0</td>\n",
       "      <td>1.451647e+09</td>\n",
       "      <td>1.451649e+09</td>\n",
       "      <td>4</td>\n",
       "      <td>-74.003342</td>\n",
       "      <td>40.743839</td>\n",
       "      <td>-73.945847</td>\n",
       "      <td>40.712841</td>\n",
       "      <td>1224</td>\n",
       "    </tr>\n",
       "  </tbody>\n",
       "</table>\n",
       "<p>729322 rows × 9 columns</p>\n",
       "</div>"
      ],
      "text/plain": [
       "        vendor_id  pickup_datetime  dropoff_datetime  passenger_count  \\\n",
       "0             2.0     1.456742e+09      1.456743e+09                1   \n",
       "1             1.0     1.457718e+09      1.457719e+09                2   \n",
       "2             2.0     1.456056e+09      1.456058e+09                2   \n",
       "3             2.0     1.451965e+09      1.451967e+09                6   \n",
       "4             1.0     1.455670e+09      1.455671e+09                1   \n",
       "...           ...              ...               ...              ...   \n",
       "729317        2.0     1.463816e+09      1.463816e+09                2   \n",
       "729318        1.0     1.456080e+09      1.456081e+09                1   \n",
       "729319        1.0     1.460725e+09      1.460726e+09                1   \n",
       "729320        1.0     1.466308e+09      1.466309e+09                1   \n",
       "729321        2.0     1.451647e+09      1.451649e+09                4   \n",
       "\n",
       "        pickup_longitude  pickup_latitude  dropoff_longitude  \\\n",
       "0             -73.953918        40.778873         -73.963875   \n",
       "1             -73.988312        40.731743         -73.994751   \n",
       "2             -73.997314        40.721458         -73.948029   \n",
       "3             -73.961670        40.759720         -73.956779   \n",
       "4             -74.017120        40.708469         -73.988182   \n",
       "...                  ...              ...                ...   \n",
       "729317        -73.965919        40.789780         -73.952637   \n",
       "729318        -73.996666        40.737434         -74.001320   \n",
       "729319        -73.997849        40.761696         -74.001488   \n",
       "729320        -74.006706        40.708244         -74.013550   \n",
       "729321        -74.003342        40.743839         -73.945847   \n",
       "\n",
       "        dropoff_latitude  trip_duration  \n",
       "0              40.771164            400  \n",
       "1              40.694931           1100  \n",
       "2              40.774918           1635  \n",
       "3              40.780628           1141  \n",
       "4              40.740631            848  \n",
       "...                  ...            ...  \n",
       "729317         40.789181            296  \n",
       "729318         40.731911            315  \n",
       "729319         40.741207            673  \n",
       "729320         40.713814            447  \n",
       "729321         40.712841           1224  \n",
       "\n",
       "[729322 rows x 9 columns]"
      ]
     },
     "execution_count": 6,
     "metadata": {},
     "output_type": "execute_result"
    }
   ],
   "source": [
    "data"
   ]
  },
  {
   "cell_type": "code",
   "execution_count": 125,
   "id": "565c28d1",
   "metadata": {},
   "outputs": [],
   "source": [
    "from sklearn.model_selection import train_test_split\n",
    "data=data.sample(20000)\n",
    "X = data.iloc[:, :-1].values\n",
    "Y = data.iloc[:, 8].values\n",
    "X_train, X_test, y_train, y_test = train_test_split( X, Y, test_size = 0.3, random_state = 0 )"
   ]
  },
  {
   "cell_type": "code",
   "execution_count": 135,
   "id": "36d9a959",
   "metadata": {},
   "outputs": [],
   "source": [
    "class RidgeRegression_() :\n",
    "      \n",
    "    def __init__(self, learning_rate=0.01, iterations=1000, Alpha=0.0) :\n",
    "          \n",
    "        self.learning_rate = learning_rate        \n",
    "        self.iterations = iterations        \n",
    "        self.Alpha = Alpha\n",
    "       \n",
    "    def fit( self, X, Y ) :  \n",
    "        self.m, self.n = X.shape\n",
    "       \n",
    "        self.W = np.zeros(self.n)\n",
    "          \n",
    "        self.b = 0        \n",
    "        self.X = X        \n",
    "        self.Y = Y\n",
    "          \n",
    "        for i in range( self.iterations ) :            \n",
    "            self.update_weights()      \n",
    "        return self\n",
    "      \n",
    "    def update_weights( self ) :           \n",
    "        Y_pred = self.predict( self.X )\n",
    "   \n",
    "        dW = ( - ( 2 * ( self.X.T ).dot( self.Y - Y_pred ) ) +               \n",
    "               ( 2 * self.Alpha * self.W ) ) / self.m     \n",
    "        db = - 2 * np.sum( self.Y - Y_pred ) / self.m \n",
    "   \n",
    "        self.W = self.W - self.learning_rate * dW    \n",
    "        self.b = self.b - self.learning_rate * db        \n",
    "        return self\n",
    "      \n",
    "    def predict( self, X ) :    \n",
    "        return X.dot( self.W ) + self.b"
   ]
  },
  {
   "cell_type": "code",
   "execution_count": null,
   "id": "0ef99cf3",
   "metadata": {},
   "outputs": [],
   "source": []
  },
  {
   "cell_type": "code",
   "execution_count": null,
   "id": "d3208aa9",
   "metadata": {},
   "outputs": [],
   "source": []
  },
  {
   "cell_type": "code",
   "execution_count": null,
   "id": "b44f7eb9",
   "metadata": {},
   "outputs": [],
   "source": []
  },
  {
   "cell_type": "code",
   "execution_count": null,
   "id": "1b834693",
   "metadata": {},
   "outputs": [],
   "source": []
  },
  {
   "cell_type": "code",
   "execution_count": null,
   "id": "313a43ab",
   "metadata": {},
   "outputs": [],
   "source": []
  },
  {
   "cell_type": "code",
   "execution_count": 103,
   "id": "4166dfaf",
   "metadata": {},
   "outputs": [],
   "source": [
    "class Ridge_:\n",
    "        \n",
    "    def __init__(self, Alpha=1.0):\n",
    "        self.Alpha = Alpha;\n",
    "    \n",
    "    def fit(self, X, y):\n",
    "        m, n = np.shape(X)\n",
    "        upper_half = np.hstack((np.ones((m, 1)), X))\n",
    "        lower = np.zeros((n, n))\n",
    "        np.fill_diagonal(lower, np.sqrt(1.0))\n",
    "        lower_half = np.hstack((np.zeros((n, 1)), lower))\n",
    "        X = np.vstack((upper_half, lower_half))\n",
    "        y = np.append(y, np.zeros(n))\n",
    "        self.coef_ = np.linalg.solve(np.dot(X.T, X), np.dot(X.T, y))\n",
    "        return self\n",
    "    \n",
    "    def predict(self, X):\n",
    "        return np.dot(X, self.coef_[1:9]) + self.coef_[0]\n",
    "        \n",
    "    def MAE_(self, y_test, y_pred):\n",
    "        return sum(abs(y_test - y_pred))/y_test.shape[0]\n",
    "\n",
    "    def MSE_(self, y_test, y_pred):\n",
    "        return sum((y_test - y_pred)**2)/y_test.shape[0]\n",
    "\n",
    "    def RMSE_(self, y_test, y_pred):\n",
    "        return np.sqrt(sum((y_test - y_pred)**2)/y_test.shape[0])\n",
    "\n",
    "    def MAPE_(self, y_test, y_pred):\n",
    "        return (sum(abs((y_test - y_pred)/y_test)))/y_test.shape[0]\n",
    "\n",
    "    def R_2(self, y_test, y_pred):\n",
    "        return 1 - (sum((y_test - y_pred)**2)/y_test.shape[0])/(sum((y_test - np.mean(y_test))**2)/y_test.shape[0])"
   ]
  },
  {
   "cell_type": "code",
   "execution_count": null,
   "id": "ea61a829",
   "metadata": {},
   "outputs": [],
   "source": []
  },
  {
   "cell_type": "code",
   "execution_count": 136,
   "id": "70b511e5",
   "metadata": {},
   "outputs": [
    {
     "name": "stderr",
     "output_type": "stream",
     "text": [
      "C:\\Users\\DNS\\AppData\\Local\\Temp\\ipykernel_11420\\1908087113.py:25: RuntimeWarning: overflow encountered in matmul\n",
      "  dW = (self.X @ (A-self.Y).T)/self.m\n",
      "C:\\Users\\DNS\\AppData\\Local\\Temp\\ipykernel_11420\\1908087113.py:25: RuntimeWarning: invalid value encountered in matmul\n",
      "  dW = (self.X @ (A-self.Y).T)/self.m\n",
      "C:\\Users\\DNS\\AppData\\Local\\Temp\\ipykernel_11420\\1908087113.py:32: RuntimeWarning: invalid value encountered in subtract\n",
      "  self.W = self.W - self.learning_rate * dW\n"
     ]
    }
   ],
   "source": [
    "lr = RidgeRegression_(Alpha=1.0).fit(X_train, y_train)"
   ]
  },
  {
   "cell_type": "code",
   "execution_count": 123,
   "id": "2883dd78",
   "metadata": {},
   "outputs": [],
   "source": [
    "y_pred = lr.predict(X_test)"
   ]
  },
  {
   "cell_type": "code",
   "execution_count": 137,
   "id": "01efb184",
   "metadata": {},
   "outputs": [
    {
     "data": {
      "text/plain": [
       "array([nan, nan, nan, ..., nan, nan, nan])"
      ]
     },
     "execution_count": 137,
     "metadata": {},
     "output_type": "execute_result"
    }
   ],
   "source": [
    "lr.predict(X_test)"
   ]
  },
  {
   "cell_type": "code",
   "execution_count": 107,
   "id": "c9893452",
   "metadata": {},
   "outputs": [
    {
     "data": {
      "text/plain": [
       "array([1423,  321,  509, ...,  494,  301,  428], dtype=int64)"
      ]
     },
     "execution_count": 107,
     "metadata": {},
     "output_type": "execute_result"
    }
   ],
   "source": [
    "y_test"
   ]
  },
  {
   "cell_type": "code",
   "execution_count": 108,
   "id": "96dd1172",
   "metadata": {},
   "outputs": [
    {
     "data": {
      "text/plain": [
       "6000"
      ]
     },
     "execution_count": 108,
     "metadata": {},
     "output_type": "execute_result"
    }
   ],
   "source": [
    "y_test.shape[0]"
   ]
  },
  {
   "cell_type": "code",
   "execution_count": 109,
   "id": "e771e4fb",
   "metadata": {},
   "outputs": [
    {
     "data": {
      "text/plain": [
       "array([-2.65143630e+02, -4.40161123e-02, -1.00035251e+00,  1.00035251e+00,\n",
       "       -3.72797363e-03, -1.43400516e+00,  1.29444602e+00, -9.22558963e-01,\n",
       "        1.08743735e+00])"
      ]
     },
     "execution_count": 109,
     "metadata": {},
     "output_type": "execute_result"
    }
   ],
   "source": [
    "lr.coef_"
   ]
  },
  {
   "cell_type": "code",
   "execution_count": 110,
   "id": "7ae4e0f6",
   "metadata": {},
   "outputs": [
    {
     "name": "stdout",
     "output_type": "stream",
     "text": [
      "MAE:  0.21721491606905813\n",
      "MSE:  1.7789825879178076\n",
      "RMAE:  1.3337850606142685\n",
      "MApE:  0.0005221186411883252\n",
      "R_2:  0.9999998762860768\n"
     ]
    }
   ],
   "source": [
    "print('MAE: ', lr.MAE_(y_test, y_pred))\n",
    "print('MSE: ', lr.MSE_(y_test, y_pred))\n",
    "print('RMAE: ', lr.RMSE_(y_test, y_pred))\n",
    "print('MApE: ', lr.MAPE_(y_test, y_pred))\n",
    "print('R_2: ', lr.R_2(y_test, y_pred))"
   ]
  },
  {
   "cell_type": "code",
   "execution_count": null,
   "id": "e35370c3",
   "metadata": {},
   "outputs": [],
   "source": []
  },
  {
   "cell_type": "code",
   "execution_count": null,
   "id": "e1a0574d",
   "metadata": {},
   "outputs": [],
   "source": []
  },
  {
   "cell_type": "code",
   "execution_count": null,
   "id": "2fcce497",
   "metadata": {},
   "outputs": [],
   "source": []
  },
  {
   "cell_type": "code",
   "execution_count": null,
   "id": "ff2fbe25",
   "metadata": {},
   "outputs": [],
   "source": []
  },
  {
   "cell_type": "code",
   "execution_count": 38,
   "id": "e5a54261",
   "metadata": {},
   "outputs": [],
   "source": [
    "class LinReg:\n",
    "    \n",
    "    def Ridge(self, Alpha):\n",
    "        self.Alpha = Alpha;\n",
    "        \n",
    "    def __init__(self, lr=0.001, iters=5000, eps=0.001, Alpha=0.0):\n",
    "        self.lr = lr\n",
    "        self.iters = iters\n",
    "        self.eps = eps\n",
    "        self.Alpha = Alpha;\n",
    "    \n",
    "    def fit(self, X, y):\n",
    "        dist = np.inf\n",
    "        w = np.zeros(X.shape[1])\n",
    "        iter = 0\n",
    "        while dist > self.eps and iter <= self.iters:\n",
    "            loss = self.fun_error(X, y, w)\n",
    "            w = w - (self.lr * 2 * np.dot(X.T, np.dot(X, w) - y) / X.shape[0]) + self.Alpha * 2 / X.shape[0]\n",
    "            dist = np.abs(loss - self.fun_error(X, y, w))\n",
    "            iter += 1\n",
    "        self.w = w  \n",
    "    \n",
    "    def transform(self, X):\n",
    "        return np.concatenate(np.ones((len(X), 1)), axis=1)\n",
    "\n",
    "\n",
    "    def fun_error(self, X, y, w):\n",
    "        return sum((y - np.dot(X, w)) ** 2) / X.shape[0]\n",
    "    \n",
    "    def predict(self, X):\n",
    "        return np.dot(X, self.w)\n",
    "        \n",
    "    \n",
    "\n",
    "    \n",
    "    def MAE_(self, y_test, y_pred):\n",
    "        return sum(abs(y_test - y_pred))/y_test.shape\n",
    "\n",
    "    def MSE_(self, y_test, y_pred):\n",
    "        return sum((y_test - y_pred)**2)/y_test.shape\n",
    "\n",
    "    def RMSE_(self, y_test, y_pred):\n",
    "        return np.sqrt(sum((y_test - y_pred)**2)/y_test.shape)\n",
    "\n",
    "    def MAPE_(self, y_test, y_pred):\n",
    "        return (sum(abs((y_test - y_pred)/y_test)))/y_test.shape\n",
    "\n",
    "    def R_2(self, y_test, y_pred):\n",
    "        return 1 - (MSE(y_test, y_pred))/(sum(y_test - np.mean(y_test))/y_test.shape)"
   ]
  },
  {
   "cell_type": "code",
   "execution_count": 213,
   "id": "5004420e",
   "metadata": {},
   "outputs": [
    {
     "name": "stdout",
     "output_type": "stream",
     "text": [
      "(4000,) (4000,)\n",
      "[1.63002313e+178 1.61513801e+178 1.62312942e+178 ... 1.62499022e+178\n",
      " 1.61870346e+178 1.62749438e+178]\n",
      "17356    543\n",
      "5296     803\n",
      "4018     274\n",
      "5003     334\n",
      "14442    502\n",
      "        ... \n",
      "15424    688\n",
      "15397    166\n",
      "14906    327\n",
      "9719     595\n",
      "12805    897\n",
      "Name: trip_duration, Length: 4000, dtype: int64\n"
     ]
    },
    {
     "name": "stderr",
     "output_type": "stream",
     "text": [
      "C:\\Users\\DNS\\AppData\\Local\\Temp\\ipykernel_15780\\4163948044.py:28: RuntimeWarning: overflow encountered in square\n",
      "  return sum((y - np.dot(X, w)) ** 2) / X.shape[0]\n",
      "C:\\Users\\DNS\\AppData\\Local\\Temp\\ipykernel_15780\\4163948044.py:19: RuntimeWarning: invalid value encountered in scalar subtract\n",
      "  dist = np.abs(loss - self.fun_error(X, y, w))\n"
     ]
    },
    {
     "ename": "TypeError",
     "evalue": "unsupported operand type(s) for /: 'float' and 'tuple'",
     "output_type": "error",
     "traceback": [
      "\u001b[1;31m---------------------------------------------------------------------------\u001b[0m",
      "\u001b[1;31mTypeError\u001b[0m                                 Traceback (most recent call last)",
      "Cell \u001b[1;32mIn[213], line 7\u001b[0m\n\u001b[0;32m      5\u001b[0m \u001b[38;5;28mprint\u001b[39m(y_pred)\n\u001b[0;32m      6\u001b[0m \u001b[38;5;28mprint\u001b[39m(y_test)\n\u001b[1;32m----> 7\u001b[0m \u001b[38;5;28mprint\u001b[39m(\u001b[38;5;124m'\u001b[39m\u001b[38;5;124mMAE: \u001b[39m\u001b[38;5;124m'\u001b[39m, \u001b[43mlr\u001b[49m\u001b[38;5;241;43m.\u001b[39;49m\u001b[43mMAE_\u001b[49m\u001b[43m(\u001b[49m\u001b[43my_test\u001b[49m\u001b[43m,\u001b[49m\u001b[43m \u001b[49m\u001b[43my_pred\u001b[49m\u001b[43m)\u001b[49m)\n\u001b[0;32m      8\u001b[0m \u001b[38;5;28mprint\u001b[39m(\u001b[38;5;124m'\u001b[39m\u001b[38;5;124mMSE: \u001b[39m\u001b[38;5;124m'\u001b[39m, lr\u001b[38;5;241m.\u001b[39mMSE_(y_test, y_pred))\n\u001b[0;32m      9\u001b[0m \u001b[38;5;28mprint\u001b[39m(\u001b[38;5;124m'\u001b[39m\u001b[38;5;124mRMAE: \u001b[39m\u001b[38;5;124m'\u001b[39m, lr\u001b[38;5;241m.\u001b[39mRMSE_(y_test, y_pred))\n",
      "Cell \u001b[1;32mIn[212], line 37\u001b[0m, in \u001b[0;36mLinReg.MAE_\u001b[1;34m(self, y_test, y_pred)\u001b[0m\n\u001b[0;32m     36\u001b[0m \u001b[38;5;28;01mdef\u001b[39;00m \u001b[38;5;21mMAE_\u001b[39m(\u001b[38;5;28mself\u001b[39m, y_test, y_pred):\n\u001b[1;32m---> 37\u001b[0m     \u001b[38;5;28;01mreturn\u001b[39;00m \u001b[38;5;28;43msum\u001b[39;49m\u001b[43m(\u001b[49m\u001b[38;5;28;43mabs\u001b[39;49m\u001b[43m(\u001b[49m\u001b[43my_test\u001b[49m\u001b[43m \u001b[49m\u001b[38;5;241;43m-\u001b[39;49m\u001b[43m \u001b[49m\u001b[43my_pred\u001b[49m\u001b[43m)\u001b[49m\u001b[43m)\u001b[49m\u001b[38;5;241;43m/\u001b[39;49m\u001b[43my_test\u001b[49m\u001b[38;5;241;43m.\u001b[39;49m\u001b[43mshape\u001b[49m\n",
      "\u001b[1;31mTypeError\u001b[0m: unsupported operand type(s) for /: 'float' and 'tuple'"
     ]
    }
   ],
   "source": [
    "lr = LinReg()\n",
    "lr.fit(X, y)\n",
    "y_pred = lr.predict(X_test)\n",
    "print(y_pred.shape, y_test.shape)\n",
    "print(y_pred)\n",
    "print(y_test)\n",
    "print('MAE: ', lr.MAE_(y_test, y_pred))\n",
    "print('MSE: ', lr.MSE_(y_test, y_pred))\n",
    "print('RMAE: ', lr.RMSE_(y_test, y_pred))\n",
    "print('MApE: ', lr.MAPE_(y_test, y_pred))\n",
    "print('R_2: ', lr.R_2(y_test, y_pred))"
   ]
  },
  {
   "cell_type": "code",
   "execution_count": 109,
   "id": "5d0db579",
   "metadata": {},
   "outputs": [
    {
     "data": {
      "text/html": [
       "<div>\n",
       "<style scoped>\n",
       "    .dataframe tbody tr th:only-of-type {\n",
       "        vertical-align: middle;\n",
       "    }\n",
       "\n",
       "    .dataframe tbody tr th {\n",
       "        vertical-align: top;\n",
       "    }\n",
       "\n",
       "    .dataframe thead th {\n",
       "        text-align: right;\n",
       "    }\n",
       "</style>\n",
       "<table border=\"1\" class=\"dataframe\">\n",
       "  <thead>\n",
       "    <tr style=\"text-align: right;\">\n",
       "      <th></th>\n",
       "      <th>vendor_id</th>\n",
       "      <th>pickup_datetime</th>\n",
       "      <th>dropoff_datetime</th>\n",
       "      <th>passenger_count</th>\n",
       "      <th>pickup_longitude</th>\n",
       "      <th>pickup_latitude</th>\n",
       "      <th>dropoff_longitude</th>\n",
       "      <th>dropoff_latitude</th>\n",
       "      <th>trip_duration</th>\n",
       "    </tr>\n",
       "  </thead>\n",
       "  <tbody>\n",
       "    <tr>\n",
       "      <th>0</th>\n",
       "      <td>2.0</td>\n",
       "      <td>1.452362e+09</td>\n",
       "      <td>1.452363e+09</td>\n",
       "      <td>1</td>\n",
       "      <td>-73.967682</td>\n",
       "      <td>40.792725</td>\n",
       "      <td>-73.990227</td>\n",
       "      <td>40.757504</td>\n",
       "      <td>588</td>\n",
       "    </tr>\n",
       "    <tr>\n",
       "      <th>1</th>\n",
       "      <td>1.0</td>\n",
       "      <td>1.459663e+09</td>\n",
       "      <td>1.459663e+09</td>\n",
       "      <td>1</td>\n",
       "      <td>-74.014114</td>\n",
       "      <td>40.712418</td>\n",
       "      <td>-74.002510</td>\n",
       "      <td>40.719894</td>\n",
       "      <td>282</td>\n",
       "    </tr>\n",
       "    <tr>\n",
       "      <th>2</th>\n",
       "      <td>1.0</td>\n",
       "      <td>1.455025e+09</td>\n",
       "      <td>1.455026e+09</td>\n",
       "      <td>1</td>\n",
       "      <td>-73.984634</td>\n",
       "      <td>40.768501</td>\n",
       "      <td>-73.972954</td>\n",
       "      <td>40.785343</td>\n",
       "      <td>667</td>\n",
       "    </tr>\n",
       "    <tr>\n",
       "      <th>3</th>\n",
       "      <td>1.0</td>\n",
       "      <td>1.463120e+09</td>\n",
       "      <td>1.463120e+09</td>\n",
       "      <td>1</td>\n",
       "      <td>-73.953064</td>\n",
       "      <td>40.768284</td>\n",
       "      <td>-73.953651</td>\n",
       "      <td>40.777622</td>\n",
       "      <td>314</td>\n",
       "    </tr>\n",
       "    <tr>\n",
       "      <th>4</th>\n",
       "      <td>1.0</td>\n",
       "      <td>1.455186e+09</td>\n",
       "      <td>1.455187e+09</td>\n",
       "      <td>1</td>\n",
       "      <td>-73.962204</td>\n",
       "      <td>40.778770</td>\n",
       "      <td>-73.982491</td>\n",
       "      <td>40.764336</td>\n",
       "      <td>892</td>\n",
       "    </tr>\n",
       "  </tbody>\n",
       "</table>\n",
       "</div>"
      ],
      "text/plain": [
       "   vendor_id  pickup_datetime  dropoff_datetime  passenger_count  \\\n",
       "0        2.0     1.452362e+09      1.452363e+09                1   \n",
       "1        1.0     1.459663e+09      1.459663e+09                1   \n",
       "2        1.0     1.455025e+09      1.455026e+09                1   \n",
       "3        1.0     1.463120e+09      1.463120e+09                1   \n",
       "4        1.0     1.455186e+09      1.455187e+09                1   \n",
       "\n",
       "   pickup_longitude  pickup_latitude  dropoff_longitude  dropoff_latitude  \\\n",
       "0        -73.967682        40.792725         -73.990227         40.757504   \n",
       "1        -74.014114        40.712418         -74.002510         40.719894   \n",
       "2        -73.984634        40.768501         -73.972954         40.785343   \n",
       "3        -73.953064        40.768284         -73.953651         40.777622   \n",
       "4        -73.962204        40.778770         -73.982491         40.764336   \n",
       "\n",
       "   trip_duration  \n",
       "0            588  \n",
       "1            282  \n",
       "2            667  \n",
       "3            314  \n",
       "4            892  "
      ]
     },
     "execution_count": 109,
     "metadata": {},
     "output_type": "execute_result"
    }
   ],
   "source": [
    "data.head(5)"
   ]
  },
  {
   "cell_type": "code",
   "execution_count": 135,
   "id": "cc71e47a",
   "metadata": {},
   "outputs": [],
   "source": [
    "X = data.iloc[:, :-1].values#data.drop([\"trip_duration\"], axis=1)\n",
    "y = data.iloc[:, 8].values#data[\"trip_duration\"]"
   ]
  },
  {
   "cell_type": "code",
   "execution_count": 108,
   "id": "ae82440a",
   "metadata": {},
   "outputs": [
    {
     "name": "stdout",
     "output_type": "stream",
     "text": [
      "[ 588  282  667 ... 1810  480  458]\n"
     ]
    }
   ],
   "source": [
    "print(y.values)"
   ]
  },
  {
   "cell_type": "code",
   "execution_count": 204,
   "id": "2f779540",
   "metadata": {},
   "outputs": [
    {
     "ename": "AttributeError",
     "evalue": "'NoneType' object has no attribute 'predict'",
     "output_type": "error",
     "traceback": [
      "\u001b[1;31m---------------------------------------------------------------------------\u001b[0m",
      "\u001b[1;31mAttributeError\u001b[0m                            Traceback (most recent call last)",
      "Cell \u001b[1;32mIn[204], line 1\u001b[0m\n\u001b[1;32m----> 1\u001b[0m y_pred \u001b[38;5;241m=\u001b[39m \u001b[43mlr\u001b[49m\u001b[38;5;241;43m.\u001b[39;49m\u001b[43mpredict\u001b[49m(X_test)\n\u001b[0;32m      2\u001b[0m \u001b[38;5;28mprint\u001b[39m(y_pred\u001b[38;5;241m.\u001b[39mshape, y_test\u001b[38;5;241m.\u001b[39mshape)\n\u001b[0;32m      3\u001b[0m \u001b[38;5;28mprint\u001b[39m(y_pred[\u001b[38;5;241m3\u001b[39m])\n",
      "\u001b[1;31mAttributeError\u001b[0m: 'NoneType' object has no attribute 'predict'"
     ]
    }
   ],
   "source": [
    "y_pred = lr.predict(X_test)\n",
    "print(y_pred.shape, y_test.shape)\n",
    "print(y_pred[3])\n",
    "print(y_test[3])\n",
    "print('MAE: ', lr.MAE_(y_test, y_pred))\n",
    "print('MSE: ', lr.MSE_(y_test, y_pred))\n",
    "print('RMAE: ', lr.RMSE_(y_test, y_pred))\n",
    "print('MApE: ', lr.MAPE_(y_test, y_pred))\n",
    "print('R_2: ', lr.R_2(y_test, y_pred))"
   ]
  },
  {
   "cell_type": "code",
   "execution_count": 166,
   "id": "42dc97d2",
   "metadata": {},
   "outputs": [
    {
     "name": "stdout",
     "output_type": "stream",
     "text": [
      "(20000,) (4000,)\n",
      "-1.9096855098038378e+162\n",
      "314\n"
     ]
    }
   ],
   "source": [
    "y_pred = lr.predict(X)\n",
    "print(y_pred.shape, y_test.shape)\n",
    "print(y_pred[3])\n",
    "print(y[3])"
   ]
  },
  {
   "cell_type": "code",
   "execution_count": null,
   "id": "c91e3355",
   "metadata": {},
   "outputs": [],
   "source": []
  },
  {
   "cell_type": "code",
   "execution_count": null,
   "id": "e224b1aa",
   "metadata": {},
   "outputs": [],
   "source": []
  },
  {
   "cell_type": "code",
   "execution_count": null,
   "id": "a83dd892",
   "metadata": {},
   "outputs": [],
   "source": []
  },
  {
   "cell_type": "code",
   "execution_count": null,
   "id": "d7e32a50",
   "metadata": {},
   "outputs": [],
   "source": []
  },
  {
   "cell_type": "code",
   "execution_count": null,
   "id": "ad7c5fb9",
   "metadata": {},
   "outputs": [],
   "source": [
    "#L1 сам.\n",
    "class Ridge_:\n",
    "    \n",
    "    Alpha = 0.5\n",
    "    \n",
    "    def __init__(self, Alpha):\n",
    "        self.Alpha = Alpha;\n",
    "        \n",
    "    def fit(self, X, Y):\n",
    "\n",
    "        self.m, self.n = X.shape\n",
    "        self.W = np.zeros(self.n)\n",
    "\n",
    "        self.X = X\n",
    "        self.Y = Y\n",
    "\n",
    "    \n",
    "    def train(self):\n",
    "        Y_predict = self.predict(self.X)\n",
    "        \n",
    "        dW = (-(2 * (self.X.T).dot(self.Y - Y_predict)) + 0.2) / self.m\n",
    "        db = -2 * np.sum(self.Y - Y_predict) / self.m\n",
    "        \n",
    "        self.W = self.W - Alpha*dW\n",
    "        return self\n",
    "\n",
    "    def predict(self, X):\n",
    "        return X.dot(self.W)+self.b    \n",
    "        \n",
    "        \n",
    "    def fit(X, y):\n",
    "        \n",
    "    def predict(X_test):\n",
    "        return np.dot(X, self.w)"
   ]
  },
  {
   "cell_type": "code",
   "execution_count": 167,
   "id": "3224a606",
   "metadata": {},
   "outputs": [],
   "source": [
    "#На память. Бесполезно.\n",
    "def MAE(X, y):\n",
    "    #X=X.as_matrix()\n",
    "    w=np.linalg.pinv(X.transpose().dot(X)).dot(X.transpose()).dot(y)\n",
    "    s=0\n",
    "    m=len(X.axes[0])\n",
    "    n=len(X.axes[1])\n",
    "    for i in range(m):\n",
    "        y_=0\n",
    "        for j in range(n):\n",
    "            y_+=w[j]*X.iat[i,j]\n",
    "        s+=abs(y.iat[i]-y_)\n",
    "    s1=s/m\n",
    "    return(s1)\n",
    "def MSE(X, y):\n",
    "    #X=X.as_matrix()\n",
    "    w=np.linalg.pinv(X.transpose().dot(X)).dot(X.transpose()).dot(y)\n",
    "    s=0\n",
    "    m=len(X.axes[0])\n",
    "    n=len(X.axes[1])\n",
    "    for i in range(m):\n",
    "        y_=0\n",
    "        for j in range(n):\n",
    "            y_+=w[j]*X.iat[i,j]\n",
    "        s+=(y.iat[i]-y_)**2\n",
    "    s1=s/m\n",
    "    return(s1)\n",
    "def RMSE(X, y):\n",
    "    #X=X.as_matrix()\n",
    "    w=np.linalg.pinv(X.transpose().dot(X)).dot(X.transpose()).dot(y)\n",
    "    s=0\n",
    "    m=len(X.axes[0])\n",
    "    n=len(X.axes[1])\n",
    "    for i in range(m):\n",
    "        y_=0\n",
    "        for j in range(n):\n",
    "            y_+=w[j]*X.iat[i,j]\n",
    "        s+=(y.iat[i]-y_)**2\n",
    "    s1=sqrt(s/m)\n",
    "    return(s1)\n",
    "def MAPE(X, y):\n",
    "    #X=X.as_matrix()\n",
    "    w=np.linalg.pinv(X.transpose().dot(X)).dot(X.transpose()).dot(y)\n",
    "    s=0\n",
    "    m=len(X.axes[0])\n",
    "    n=len(X.axes[1])\n",
    "    for i in range(m):\n",
    "        y_=0\n",
    "        for j in range(n):\n",
    "            y_+=w[j]*X.iat[i,j]\n",
    "        s+=abs((y.iat[i]-y_)/y.iat[i])\n",
    "    s1=s/m\n",
    "    return(s1)\n",
    "def R_2(X, y):\n",
    "    #X=X.as_matrix()\n",
    "    w=np.linalg.pinv(X.transpose().dot(X)).dot(X.transpose()).dot(y)\n",
    "    s=0\n",
    "    m=len(X.axes[0])\n",
    "    for i in range(m):\n",
    "        y_=y.mean()\n",
    "        s+=(y.iat[i]-y_)**2\n",
    "    s1=s/m\n",
    "    return(1-(MSE(X,y)/s1))"
   ]
  },
  {
   "cell_type": "code",
   "execution_count": 172,
   "id": "ea1389c6",
   "metadata": {},
   "outputs": [
    {
     "name": "stdout",
     "output_type": "stream",
     "text": [
      "MAE:  590.2542204070038\n",
      "MSE:  8323202.462563874\n",
      "RMAE:  2884.996094029223\n",
      "MApE:  1.5424568755059902\n",
      "R_2:  0.0013341793824208636\n",
      "MAE:  661.7032032607909\n",
      "MSE:  12457237.688627644\n",
      "RMAE:  3529.481220891768\n",
      "MApE:  1.674886310303826\n",
      "R_2:  0.0003117740852730533\n"
     ]
    }
   ],
   "source": [
    "print('MAE: ', MAE(X_train, y_train))\n",
    "print('MSE: ', MSE(X_train, y_train))\n",
    "print('RMAE: ', RMSE(X_train, y_train))\n",
    "print('MApE: ', MAPE(X_train, y_train))\n",
    "print('R_2: ', R_2(X_train, y_train))\n",
    "\n",
    "print('MAE: ', MAE(X_test, y_test))\n",
    "print('MSE: ', MSE(X_test, y_test))\n",
    "print('RMAE: ', RMSE(X_test, y_test))\n",
    "print('MApE: ', MAPE(X_test, y_test))\n",
    "print('R_2: ', R_2(X_test, y_test))\n"
   ]
  },
  {
   "cell_type": "code",
   "execution_count": null,
   "id": "62497088",
   "metadata": {},
   "outputs": [],
   "source": []
  }
 ],
 "metadata": {
  "kernelspec": {
   "display_name": "Python 3 (ipykernel)",
   "language": "python",
   "name": "python3"
  },
  "language_info": {
   "codemirror_mode": {
    "name": "ipython",
    "version": 3
   },
   "file_extension": ".py",
   "mimetype": "text/x-python",
   "name": "python",
   "nbconvert_exporter": "python",
   "pygments_lexer": "ipython3",
   "version": "3.9.13"
  }
 },
 "nbformat": 4,
 "nbformat_minor": 5
}
